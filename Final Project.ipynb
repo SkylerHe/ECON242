{
 "cells": [
  {
   "cell_type": "code",
   "execution_count": 1,
   "id": "34d53400-6cd6-4353-82be-5926398187d1",
   "metadata": {},
   "outputs": [],
   "source": [
    "import pandas as pd\n",
    "import matplotlib.pyplot as plt\n",
    "import numpy as np\n",
    "import plotly.express as px"
   ]
  },
  {
   "cell_type": "code",
   "execution_count": 2,
   "id": "45c4c269-1430-45f1-8a24-63e7a73153c1",
   "metadata": {},
   "outputs": [],
   "source": [
    "#Import data about directory information\n",
    "dfhd= pd.read_csv(\"https://nces.ed.gov/ipeds/datacenter/data/HD2020.zip\", compression = \"zip\", encoding = \"latin1\")\n",
    "#Import data about institutional characteristic\n",
    "dfic = pd.read_csv(\"https://nces.ed.gov/ipeds/datacenter/data/IC2020.zip\", compression = \"zip\", encoding = \"latin1\")\n",
    "dfay = pd.read_csv(\"https://nces.ed.gov/ipeds/datacenter/data/IC2020_AY.zip\", compression = \"zip\", encoding = \"latin1\")\n",
    "#Import data about admissions and test scores\n",
    "dfad = pd.read_csv(\"https://nces.ed.gov/ipeds/datacenter/data/ADM2020.zip\", compression = \"zip\", encoding = \"latin1\")\n",
    "#Import data about award and completion\n",
    "dfc_a = pd.read_csv(\"https://nces.ed.gov/ipeds/datacenter/data/C2020_A.zip\", compression = \"zip\", encoding = \"latin1\")"
   ]
  },
  {
   "cell_type": "code",
   "execution_count": 3,
   "id": "48a0768b-cf77-484d-8a11-e5ebb0906290",
   "metadata": {},
   "outputs": [],
   "source": [
    "#new hd2020\n",
    "dfhd = dfhd[['UNITID', 'INSTNM', \n",
    "             'WEBADDR', 'GENTELE', \n",
    "             'ADMINURL', 'APPLURL', \n",
    "             'NPRICURL', 'SECTOR', 'ICLEVEL', 'CONTROL', \n",
    "             'HLOFFER', 'UGOFFER', 'GROFFER', \n",
    "             'DEGGRANT', 'OPENPUBL', \n",
    "             'C18BASIC', 'C18ENPRF', 'C18IPUG', 'C18UGPRF', 'C18IPGRD', \n",
    "             'C18SZSET', 'INSTSIZE', \n",
    "             'CITY', 'STABBR', 'ZIP', \n",
    "             'LOCALE', 'LONGITUD','LATITUDE']]\n",
    "#new ic2020\n",
    "dfic = dfic[['UNITID','CALSYS',\n",
    "            'FT_UG','FT_FTUG','FTGDNIDP',\n",
    "            'PT_UG','PT_FTUG','PTGDNIDP',\n",
    "            'TUITPL','ROOM','ROOMCAP','BOARD',\n",
    "            'MEALSWK','ROOMAMT','BOARDAMT']]\n",
    "#new ic2020_ay\n",
    "dfay = dfay[['UNITID','TUITION2','TUITION3','TUITION6','TUITION7',\n",
    "            'CHG2AT0','CHG2AT1','CHG2AT2','CHG2AT3',\n",
    "            'CHG2AF0','CHG2AF1','CHG2AF2','CHG2AF3',\n",
    "            'CHG3AT0','CHG3AT1','CHG3AT2','CHG3AT3',\n",
    "            'CHG3AF0','CHG3AF1','CHG3AF2','CHG3AF3',\n",
    "            'CHG5AY0','CHG5AY1','CHG5AY2','CHG5AY3',\n",
    "            'CHG6AY0','CHG6AY1','CHG6AY2','CHG6AY3',\n",
    "            'CHG7AY0','CHG7AY1','CHG7AY2','CHG7AY3',\n",
    "            'CHG8AY0','CHG8AY1','CHG8AY2','CHG8AY3',\n",
    "            'CHG9AY0','CHG9AY1','CHG9AY2','CHG9AY3 ']]\n",
    "\n",
    "#Merge 5 datasets\n",
    "dfhdic = pd.merge(dfhd,dfic, how = \"inner\", on = \"UNITID\")\n",
    "dfayad = pd.merge(dfay,dfad, how = \"inner\", on = \"UNITID\")\n",
    "dfgen = pd.merge(dfhdic,dfayad,how = \"inner\", on = \"UNITID\")\n",
    "dfAll = pd.merge(dfgen,dfc_a,how = \"inner\", on = \"UNITID\")\n",
    "\n",
    "\n",
    "\n",
    "\n",
    "\n",
    "#Change the values of sector\n",
    "dfAll['SECTOR'] = dfAll['SECTOR'].replace(1,'Public, 4-year or above')\n",
    "dfAll['SECTOR'] = dfAll['SECTOR'].replace(2,'Private not-for-profit, 4-year or above')\n",
    "dfAll['SECTOR'] = dfAll['SECTOR'].replace(3,'Private for-profit, 4-year or above')\n",
    "dfAll['SECTOR'] = dfAll['SECTOR'].replace(4,'Public, 2-year')\n",
    "dfAll['SECTOR'] = dfAll['SECTOR'].replace(5,'Private not-for-profit, 2-year')\n",
    "dfAll['SECTOR'] = dfAll['SECTOR'].replace(6,'Private for-profit, 2-year')\n",
    "dfAll['SECTOR'] = dfAll['SECTOR'].replace(7,'Public, less-than 2-year')\n",
    "dfAll['SECTOR'] = dfAll['SECTOR'].replace(8,'Private not-for-profit, less-than 2-year')\n",
    "dfAll['SECTOR'] = dfAll['SECTOR'].replace(9,'Private for-profit, less-than 2-year')\n",
    "\n",
    "\n",
    "#Change the values of UGOFFER\n",
    "dfAll['UGOFFER'] = dfAll['UGOFFER'].replace(1,'Undergraduate degree or certificate offering')\n",
    "dfAll['UGOFFER'] = dfAll['UGOFFER'].replace(2,'No undergraduate offering')\n",
    "dfAll['UGOFFER'] = dfAll['UGOFFER'].replace(-3,'Not available')\n",
    "\n",
    "#Change the values of GROFFER\n",
    "dfAll['GROFFER'] = dfAll['GROFFER'].replace(1,'Graduate degree or certificate offering')\n",
    "dfAll['GROFFER'] = dfAll['GROFFER'].replace(2,'No graduate offering')\n",
    "dfAll['GROFFER'] = dfAll['GROFFER'].replace(-3,'Not available')\n",
    "\n",
    "#Change the values of DEGGRANT\n",
    "dfAll['DEGGRANT'] = dfAll['DEGGRANT'].replace(1,'Degree Granting')\n",
    "dfAll['DEGGRANT'] = dfAll['DEGGRANT'].replace(2,'Nondegree-granting, primarily postsecondary')\n",
    "dfAll['DEGGRANT'] = dfAll['DEGGRANT'].replace(-3,'Not available')\n",
    "\n",
    "#Change the values of HLOFFER\n",
    "dfAll['HLOFFER'] = dfAll['HLOFFER'].replace(1,\"Award of less than one academic year\")\n",
    "dfAll['HLOFFER'] = dfAll['HLOFFER'].replace(2,\"At least 1, but less than 2 academic years\")\n",
    "dfAll['HLOFFER'] = dfAll['HLOFFER'].replace(3,\"Associate's degree\")\n",
    "dfAll['HLOFFER'] = dfAll['HLOFFER'].replace(4,\"At least 2, but less than 4 academic years\")\n",
    "dfAll['HLOFFER'] = dfAll['HLOFFER'].replace(5,\"Bachelor's degree\")\n",
    "dfAll['HLOFFER'] = dfAll['HLOFFER'].replace(6,\"Postbaccalaureate certificate\")\n",
    "dfAll['HLOFFER'] = dfAll['HLOFFER'].replace(7,\"Master's degree\")\n",
    "dfAll['HLOFFER'] = dfAll['HLOFFER'].replace(8,\"Post-master's certificate\")\n",
    "dfAll['HLOFFER'] = dfAll['HLOFFER'].replace(9,'Doctor\\'s degree')\n",
    "dfAll['HLOFFER'] = dfAll['HLOFFER'].replace(-3,'Not available')\n",
    "\n",
    "#Change the values of C18SZSET\n",
    "dfAll['C18SZSET'] = dfAll['C18SZSET'].replace(1,\"Two-year, very small\")\n",
    "dfAll['C18SZSET'] = dfAll['C18SZSET'].replace(2,\"Two-year, small\")\n",
    "dfAll['C18SZSET'] = dfAll['C18SZSET'].replace(3,\"Two-year, medium\")\n",
    "dfAll['C18SZSET'] = dfAll['C18SZSET'].replace(4,\"Two-year, large\")\n",
    "dfAll['C18SZSET'] = dfAll['C18SZSET'].replace(5,\"Two-year, very large\")\n",
    "dfAll['C18SZSET'] = dfAll['C18SZSET'].replace(6,\"Four-year, very small, primarily nonresidential\")\n",
    "dfAll['C18SZSET'] = dfAll['C18SZSET'].replace(7,\"Four-year, very small, primarily residential\")\n",
    "dfAll['C18SZSET'] = dfAll['C18SZSET'].replace(8,\"Four-year, very small, highly residential\")\n",
    "dfAll['C18SZSET'] = dfAll['C18SZSET'].replace(9,'Four-year, small, primarily nonresidential')\n",
    "dfAll['C18SZSET'] = dfAll['C18SZSET'].replace(10,'Four-year, small, primarily residential')\n",
    "dfAll['C18SZSET'] = dfAll['C18SZSET'].replace(11,'Four-year, small, highly residential')\n",
    "dfAll['C18SZSET'] = dfAll['C18SZSET'].replace(12,'Four-year, medium, primarily nonresidential')\n",
    "dfAll['C18SZSET'] = dfAll['C18SZSET'].replace(13,'Four-year, medium, primarily residential')\n",
    "dfAll['C18SZSET'] = dfAll['C18SZSET'].replace(14,'Four-year, medium, highly residential')\n",
    "dfAll['C18SZSET'] = dfAll['C18SZSET'].replace(15,'Four-year, large, primarily nonresidential')\n",
    "dfAll['C18SZSET'] = dfAll['C18SZSET'].replace(16,'Four-year, large, primarily residential')\n",
    "dfAll['C18SZSET'] = dfAll['C18SZSET'].replace(17,'Four-year, large, highly residential')\n",
    "dfAll['C18SZSET'] = dfAll['C18SZSET'].replace(18,'Exclusively graduate/professional')\n",
    "dfAll['C18SZSET'] = dfAll['C18SZSET'].replace(-2,'Not applicable, not in Carnegie universe (not accredited or nondegree-granting)')\n",
    "\n",
    "\n"
   ]
  },
  {
   "cell_type": "code",
   "execution_count": 28,
   "id": "ec2caa06-7f4c-40b3-8fde-40101ea61049",
   "metadata": {},
   "outputs": [],
   "source": [
    "#Acceptane rate\n",
    "dfAll['ADMTOTAL'] = round((dfAll['ADMSSN']/dfAll['APPLCN'])*100,1)\n",
    "dfAll['ADMMEN'] = round((dfAll['ADMSSNM']/dfAll['APPLCNM'])*100,1)\n",
    "dfAll['ADMWOMEN'] = round((dfAll['ADMSSNW']/dfAll['APPLCNW'])*100,1)\n",
    "dfAll.to_csv('collegeData.csv')"
   ]
  },
  {
   "cell_type": "code",
   "execution_count": 50,
   "id": "e472bb1b-9af9-4033-8dae-ac9380f7adff",
   "metadata": {},
   "outputs": [],
   "source": [
    "#Undergrad In-state Tuition vs. Time (Types of Institution)\n",
    "dfInstate = dfAll[['UNITID','SECTOR','CHG2AT0','CHG2AT1','CHG2AT2','CHG2AT3']].drop_duplicates()\n",
    "\n",
    "#Change the type of the date column to Int64\n",
    "dfInstate['CHG2AT0'] = dfInstate['CHG2AT0'].replace('.', -1).astype('int64')\n",
    "dfInstate['CHG2AT1'] = dfInstate['CHG2AT1'].replace('.', -1).astype('int64')\n",
    "dfInstate['CHG2AT2'] = dfInstate['CHG2AT2'].replace('.', -1).astype('int64')\n",
    "dfInstate['CHG2AT3'] = dfInstate['CHG2AT3'].replace('.', -1).astype('int64')\n",
    "\n",
    "dfInstate = dfInstate[(dfInstate['CHG2AT0'] >= 0) & (dfInstate['CHG2AT1'] >= 0) & (dfInstate['CHG2AT2'] >= 0) & (dfInstate['CHG2AT3'] >= 0)]\n",
    "\n",
    "#Rename the column\n",
    "dfInstate = dfInstate.rename(columns = {'CHG2AT0':'2017-18',\n",
    "                                        'CHG2AT1':'2018-19',\n",
    "                                        'CHG2AT2':'2019-20',\n",
    "                                        'CHG2AT3':'2020-21'})\n",
    "#Reshape the data\n",
    "dfTimeTuit1 = dfInstate.dropna().melt(id_vars = ['UNITID','SECTOR'], value_vars = ['2017-18','2018-19','2019-20','2020-21'],\n",
    "                             var_name = 'Year', value_name = 'Tuition')\n",
    "\n",
    "\n",
    "#Change the type of the date column to Int64\n",
    "#dfTimeTuit1['Tuition'] = dfTimeTuit1['Tuition'].astype('float64').astype('Int64')\n",
    "dfTimeTuit1 = dfTimeTuit1[['SECTOR','Year','Tuition']].groupby(['SECTOR','Year'],as_index = False).mean()\n",
    "\n",
    "#Change the values of sector\n",
    "dfTimeTuit1['SECTOR'] = dfTimeTuit1['SECTOR'].replace(1,'Public, 4-year or above')\n",
    "dfTimeTuit1['SECTOR'] = dfTimeTuit1['SECTOR'].replace(2,'Private not-for-profit, 4-year or above')\n",
    "dfTimeTuit1['SECTOR'] = dfTimeTuit1['SECTOR'].replace(3,'Private for-profit, 4-year or above')\n",
    "dfTimeTuit1['SECTOR'] = dfTimeTuit1['SECTOR'].replace(4,'Public, 2-year')\n",
    "dfTimeTuit1['SECTOR'] = dfTimeTuit1['SECTOR'].replace(5,'Private not-for-profit, 2-year')\n",
    "dfTimeTuit1['SECTOR'] = dfTimeTuit1['SECTOR'].replace(6,'Private for-profit, 2-year')\n",
    "dfTimeTuit1['SECTOR'] = dfTimeTuit1['SECTOR'].replace(7,'Public, less-than 2-year')\n",
    "dfTimeTuit1['SECTOR'] = dfTimeTuit1['SECTOR'].replace(8,'Private not-for-profit, less-than 2-year')\n",
    "dfTimeTuit1['SECTOR'] = dfTimeTuit1['SECTOR'].replace(9,'Private for-profit, less-than 2-year')\n",
    "dfTimeTuit1.to_csv('dfTimeTuit1.csv')\n",
    "#dfTimeTuit1['SECTOR'].unique()"
   ]
  },
  {
   "cell_type": "code",
   "execution_count": 46,
   "id": "4e3f3289-455b-496f-8a09-ac1b216156be",
   "metadata": {},
   "outputs": [
    {
     "data": {
      "application/vnd.plotly.v1+json": {
       "config": {
        "plotlyServerURL": "https://plot.ly"
       },
       "data": [
        {
         "alignmentgroup": "True",
         "bingroup": "x",
         "histfunc": "sum",
         "hovertemplate": "SECTOR=Private for-profit, 2-year<br>Year=%{x}<br>sum of Tuition=%{y}<extra></extra>",
         "legendgroup": "Private for-profit, 2-year",
         "marker": {
          "color": "#636efa",
          "pattern": {
           "shape": ""
          }
         },
         "name": "Private for-profit, 2-year",
         "offsetgroup": "Private for-profit, 2-year",
         "orientation": "v",
         "showlegend": true,
         "type": "histogram",
         "x": [
          "2017-18",
          "2018-19",
          "2019-20",
          "2020-21"
         ],
         "xaxis": "x",
         "y": [
          14735.92,
          14923.96,
          15211.88,
          15097.48
         ],
         "yaxis": "y"
        },
        {
         "alignmentgroup": "True",
         "bingroup": "x",
         "histfunc": "sum",
         "hovertemplate": "SECTOR=Private for-profit, 4-year or above<br>Year=%{x}<br>sum of Tuition=%{y}<extra></extra>",
         "legendgroup": "Private for-profit, 4-year or above",
         "marker": {
          "color": "#EF553B",
          "pattern": {
           "shape": ""
          }
         },
         "name": "Private for-profit, 4-year or above",
         "offsetgroup": "Private for-profit, 4-year or above",
         "orientation": "v",
         "showlegend": true,
         "type": "histogram",
         "x": [
          "2017-18",
          "2018-19",
          "2019-20",
          "2020-21"
         ],
         "xaxis": "x",
         "y": [
          18412.85714285714,
          18672.02380952381,
          19072.904761904763,
          19432.130952380954
         ],
         "yaxis": "y"
        },
        {
         "alignmentgroup": "True",
         "bingroup": "x",
         "histfunc": "sum",
         "hovertemplate": "SECTOR=Private for-profit, less-than 2-year<br>Year=%{x}<br>sum of Tuition=%{y}<extra></extra>",
         "legendgroup": "Private for-profit, less-than 2-year",
         "marker": {
          "color": "#00cc96",
          "pattern": {
           "shape": ""
          }
         },
         "name": "Private for-profit, less-than 2-year",
         "offsetgroup": "Private for-profit, less-than 2-year",
         "orientation": "v",
         "showlegend": true,
         "type": "histogram",
         "x": [
          "2017-18",
          "2018-19",
          "2019-20",
          "2020-21"
         ],
         "xaxis": "x",
         "y": [
          21370.666666666668,
          21611.666666666668,
          21744.333333333332,
          20366.666666666668
         ],
         "yaxis": "y"
        },
        {
         "alignmentgroup": "True",
         "bingroup": "x",
         "histfunc": "sum",
         "hovertemplate": "SECTOR=Private not-for-profit, 2-year<br>Year=%{x}<br>sum of Tuition=%{y}<extra></extra>",
         "legendgroup": "Private not-for-profit, 2-year",
         "marker": {
          "color": "#ab63fa",
          "pattern": {
           "shape": ""
          }
         },
         "name": "Private not-for-profit, 2-year",
         "offsetgroup": "Private not-for-profit, 2-year",
         "orientation": "v",
         "showlegend": true,
         "type": "histogram",
         "x": [
          "2017-18",
          "2018-19",
          "2019-20",
          "2020-21"
         ],
         "xaxis": "x",
         "y": [
          14182.313725490196,
          14959.901960784313,
          15185.980392156862,
          15434.764705882353
         ],
         "yaxis": "y"
        },
        {
         "alignmentgroup": "True",
         "bingroup": "x",
         "histfunc": "sum",
         "hovertemplate": "SECTOR=Private not-for-profit, 4-year or above<br>Year=%{x}<br>sum of Tuition=%{y}<extra></extra>",
         "legendgroup": "Private not-for-profit, 4-year or above",
         "marker": {
          "color": "#FFA15A",
          "pattern": {
           "shape": ""
          }
         },
         "name": "Private not-for-profit, 4-year or above",
         "offsetgroup": "Private not-for-profit, 4-year or above",
         "orientation": "v",
         "showlegend": true,
         "type": "histogram",
         "x": [
          "2017-18",
          "2018-19",
          "2019-20",
          "2020-21"
         ],
         "xaxis": "x",
         "y": [
          28699.28966131907,
          29500.37165775401,
          30334.24688057041,
          31006.549019607843
         ],
         "yaxis": "y"
        },
        {
         "alignmentgroup": "True",
         "bingroup": "x",
         "histfunc": "sum",
         "hovertemplate": "SECTOR=Private not-for-profit, less-than 2-year<br>Year=%{x}<br>sum of Tuition=%{y}<extra></extra>",
         "legendgroup": "Private not-for-profit, less-than 2-year",
         "marker": {
          "color": "#19d3f3",
          "pattern": {
           "shape": ""
          }
         },
         "name": "Private not-for-profit, less-than 2-year",
         "offsetgroup": "Private not-for-profit, less-than 2-year",
         "orientation": "v",
         "showlegend": true,
         "type": "histogram",
         "x": [
          "2017-18",
          "2018-19",
          "2019-20",
          "2020-21"
         ],
         "xaxis": "x",
         "y": [
          10986.666666666666,
          11086.666666666666,
          12210,
          12358.333333333334
         ],
         "yaxis": "y"
        },
        {
         "alignmentgroup": "True",
         "bingroup": "x",
         "histfunc": "sum",
         "hovertemplate": "SECTOR=Public, 2-year<br>Year=%{x}<br>sum of Tuition=%{y}<extra></extra>",
         "legendgroup": "Public, 2-year",
         "marker": {
          "color": "#FF6692",
          "pattern": {
           "shape": ""
          }
         },
         "name": "Public, 2-year",
         "offsetgroup": "Public, 2-year",
         "orientation": "v",
         "showlegend": true,
         "type": "histogram",
         "x": [
          "2017-18",
          "2018-19",
          "2019-20",
          "2020-21"
         ],
         "xaxis": "x",
         "y": [
          4573.4375,
          4770.125,
          4794.25,
          5027.1875
         ],
         "yaxis": "y"
        },
        {
         "alignmentgroup": "True",
         "bingroup": "x",
         "histfunc": "sum",
         "hovertemplate": "SECTOR=Public, 4-year or above<br>Year=%{x}<br>sum of Tuition=%{y}<extra></extra>",
         "legendgroup": "Public, 4-year or above",
         "marker": {
          "color": "#B6E880",
          "pattern": {
           "shape": ""
          }
         },
         "name": "Public, 4-year or above",
         "offsetgroup": "Public, 4-year or above",
         "orientation": "v",
         "showlegend": true,
         "type": "histogram",
         "x": [
          "2017-18",
          "2018-19",
          "2019-20",
          "2020-21"
         ],
         "xaxis": "x",
         "y": [
          7246.765267175572,
          7457.114503816794,
          7621.095419847328,
          7716.332061068702
         ],
         "yaxis": "y"
        },
        {
         "alignmentgroup": "True",
         "bingroup": "x",
         "histfunc": "sum",
         "hovertemplate": "SECTOR=Public, less-than 2-year<br>Year=%{x}<br>sum of Tuition=%{y}<extra></extra>",
         "legendgroup": "Public, less-than 2-year",
         "marker": {
          "color": "#FF97FF",
          "pattern": {
           "shape": ""
          }
         },
         "name": "Public, less-than 2-year",
         "offsetgroup": "Public, less-than 2-year",
         "orientation": "v",
         "showlegend": true,
         "type": "histogram",
         "x": [
          "2017-18",
          "2018-19",
          "2019-20",
          "2020-21"
         ],
         "xaxis": "x",
         "y": [
          6374.333333333333,
          6782.333333333333,
          7188.666666666667,
          7284.666666666667
         ],
         "yaxis": "y"
        }
       ],
       "layout": {
        "autosize": true,
        "barmode": "group",
        "legend": {
         "title": {
          "text": "SECTOR"
         },
         "tracegroupgap": 0
        },
        "margin": {
         "t": 60
        },
        "template": {
         "data": {
          "bar": [
           {
            "error_x": {
             "color": "#2a3f5f"
            },
            "error_y": {
             "color": "#2a3f5f"
            },
            "marker": {
             "line": {
              "color": "#E5ECF6",
              "width": 0.5
             },
             "pattern": {
              "fillmode": "overlay",
              "size": 10,
              "solidity": 0.2
             }
            },
            "type": "bar"
           }
          ],
          "barpolar": [
           {
            "marker": {
             "line": {
              "color": "#E5ECF6",
              "width": 0.5
             },
             "pattern": {
              "fillmode": "overlay",
              "size": 10,
              "solidity": 0.2
             }
            },
            "type": "barpolar"
           }
          ],
          "carpet": [
           {
            "aaxis": {
             "endlinecolor": "#2a3f5f",
             "gridcolor": "white",
             "linecolor": "white",
             "minorgridcolor": "white",
             "startlinecolor": "#2a3f5f"
            },
            "baxis": {
             "endlinecolor": "#2a3f5f",
             "gridcolor": "white",
             "linecolor": "white",
             "minorgridcolor": "white",
             "startlinecolor": "#2a3f5f"
            },
            "type": "carpet"
           }
          ],
          "choropleth": [
           {
            "colorbar": {
             "outlinewidth": 0,
             "ticks": ""
            },
            "type": "choropleth"
           }
          ],
          "contour": [
           {
            "colorbar": {
             "outlinewidth": 0,
             "ticks": ""
            },
            "colorscale": [
             [
              0,
              "#0d0887"
             ],
             [
              0.1111111111111111,
              "#46039f"
             ],
             [
              0.2222222222222222,
              "#7201a8"
             ],
             [
              0.3333333333333333,
              "#9c179e"
             ],
             [
              0.4444444444444444,
              "#bd3786"
             ],
             [
              0.5555555555555556,
              "#d8576b"
             ],
             [
              0.6666666666666666,
              "#ed7953"
             ],
             [
              0.7777777777777778,
              "#fb9f3a"
             ],
             [
              0.8888888888888888,
              "#fdca26"
             ],
             [
              1,
              "#f0f921"
             ]
            ],
            "type": "contour"
           }
          ],
          "contourcarpet": [
           {
            "colorbar": {
             "outlinewidth": 0,
             "ticks": ""
            },
            "type": "contourcarpet"
           }
          ],
          "heatmap": [
           {
            "colorbar": {
             "outlinewidth": 0,
             "ticks": ""
            },
            "colorscale": [
             [
              0,
              "#0d0887"
             ],
             [
              0.1111111111111111,
              "#46039f"
             ],
             [
              0.2222222222222222,
              "#7201a8"
             ],
             [
              0.3333333333333333,
              "#9c179e"
             ],
             [
              0.4444444444444444,
              "#bd3786"
             ],
             [
              0.5555555555555556,
              "#d8576b"
             ],
             [
              0.6666666666666666,
              "#ed7953"
             ],
             [
              0.7777777777777778,
              "#fb9f3a"
             ],
             [
              0.8888888888888888,
              "#fdca26"
             ],
             [
              1,
              "#f0f921"
             ]
            ],
            "type": "heatmap"
           }
          ],
          "heatmapgl": [
           {
            "colorbar": {
             "outlinewidth": 0,
             "ticks": ""
            },
            "colorscale": [
             [
              0,
              "#0d0887"
             ],
             [
              0.1111111111111111,
              "#46039f"
             ],
             [
              0.2222222222222222,
              "#7201a8"
             ],
             [
              0.3333333333333333,
              "#9c179e"
             ],
             [
              0.4444444444444444,
              "#bd3786"
             ],
             [
              0.5555555555555556,
              "#d8576b"
             ],
             [
              0.6666666666666666,
              "#ed7953"
             ],
             [
              0.7777777777777778,
              "#fb9f3a"
             ],
             [
              0.8888888888888888,
              "#fdca26"
             ],
             [
              1,
              "#f0f921"
             ]
            ],
            "type": "heatmapgl"
           }
          ],
          "histogram": [
           {
            "marker": {
             "pattern": {
              "fillmode": "overlay",
              "size": 10,
              "solidity": 0.2
             }
            },
            "type": "histogram"
           }
          ],
          "histogram2d": [
           {
            "colorbar": {
             "outlinewidth": 0,
             "ticks": ""
            },
            "colorscale": [
             [
              0,
              "#0d0887"
             ],
             [
              0.1111111111111111,
              "#46039f"
             ],
             [
              0.2222222222222222,
              "#7201a8"
             ],
             [
              0.3333333333333333,
              "#9c179e"
             ],
             [
              0.4444444444444444,
              "#bd3786"
             ],
             [
              0.5555555555555556,
              "#d8576b"
             ],
             [
              0.6666666666666666,
              "#ed7953"
             ],
             [
              0.7777777777777778,
              "#fb9f3a"
             ],
             [
              0.8888888888888888,
              "#fdca26"
             ],
             [
              1,
              "#f0f921"
             ]
            ],
            "type": "histogram2d"
           }
          ],
          "histogram2dcontour": [
           {
            "colorbar": {
             "outlinewidth": 0,
             "ticks": ""
            },
            "colorscale": [
             [
              0,
              "#0d0887"
             ],
             [
              0.1111111111111111,
              "#46039f"
             ],
             [
              0.2222222222222222,
              "#7201a8"
             ],
             [
              0.3333333333333333,
              "#9c179e"
             ],
             [
              0.4444444444444444,
              "#bd3786"
             ],
             [
              0.5555555555555556,
              "#d8576b"
             ],
             [
              0.6666666666666666,
              "#ed7953"
             ],
             [
              0.7777777777777778,
              "#fb9f3a"
             ],
             [
              0.8888888888888888,
              "#fdca26"
             ],
             [
              1,
              "#f0f921"
             ]
            ],
            "type": "histogram2dcontour"
           }
          ],
          "mesh3d": [
           {
            "colorbar": {
             "outlinewidth": 0,
             "ticks": ""
            },
            "type": "mesh3d"
           }
          ],
          "parcoords": [
           {
            "line": {
             "colorbar": {
              "outlinewidth": 0,
              "ticks": ""
             }
            },
            "type": "parcoords"
           }
          ],
          "pie": [
           {
            "automargin": true,
            "type": "pie"
           }
          ],
          "scatter": [
           {
            "marker": {
             "colorbar": {
              "outlinewidth": 0,
              "ticks": ""
             }
            },
            "type": "scatter"
           }
          ],
          "scatter3d": [
           {
            "line": {
             "colorbar": {
              "outlinewidth": 0,
              "ticks": ""
             }
            },
            "marker": {
             "colorbar": {
              "outlinewidth": 0,
              "ticks": ""
             }
            },
            "type": "scatter3d"
           }
          ],
          "scattercarpet": [
           {
            "marker": {
             "colorbar": {
              "outlinewidth": 0,
              "ticks": ""
             }
            },
            "type": "scattercarpet"
           }
          ],
          "scattergeo": [
           {
            "marker": {
             "colorbar": {
              "outlinewidth": 0,
              "ticks": ""
             }
            },
            "type": "scattergeo"
           }
          ],
          "scattergl": [
           {
            "marker": {
             "colorbar": {
              "outlinewidth": 0,
              "ticks": ""
             }
            },
            "type": "scattergl"
           }
          ],
          "scattermapbox": [
           {
            "marker": {
             "colorbar": {
              "outlinewidth": 0,
              "ticks": ""
             }
            },
            "type": "scattermapbox"
           }
          ],
          "scatterpolar": [
           {
            "marker": {
             "colorbar": {
              "outlinewidth": 0,
              "ticks": ""
             }
            },
            "type": "scatterpolar"
           }
          ],
          "scatterpolargl": [
           {
            "marker": {
             "colorbar": {
              "outlinewidth": 0,
              "ticks": ""
             }
            },
            "type": "scatterpolargl"
           }
          ],
          "scatterternary": [
           {
            "marker": {
             "colorbar": {
              "outlinewidth": 0,
              "ticks": ""
             }
            },
            "type": "scatterternary"
           }
          ],
          "surface": [
           {
            "colorbar": {
             "outlinewidth": 0,
             "ticks": ""
            },
            "colorscale": [
             [
              0,
              "#0d0887"
             ],
             [
              0.1111111111111111,
              "#46039f"
             ],
             [
              0.2222222222222222,
              "#7201a8"
             ],
             [
              0.3333333333333333,
              "#9c179e"
             ],
             [
              0.4444444444444444,
              "#bd3786"
             ],
             [
              0.5555555555555556,
              "#d8576b"
             ],
             [
              0.6666666666666666,
              "#ed7953"
             ],
             [
              0.7777777777777778,
              "#fb9f3a"
             ],
             [
              0.8888888888888888,
              "#fdca26"
             ],
             [
              1,
              "#f0f921"
             ]
            ],
            "type": "surface"
           }
          ],
          "table": [
           {
            "cells": {
             "fill": {
              "color": "#EBF0F8"
             },
             "line": {
              "color": "white"
             }
            },
            "header": {
             "fill": {
              "color": "#C8D4E3"
             },
             "line": {
              "color": "white"
             }
            },
            "type": "table"
           }
          ]
         },
         "layout": {
          "annotationdefaults": {
           "arrowcolor": "#2a3f5f",
           "arrowhead": 0,
           "arrowwidth": 1
          },
          "autotypenumbers": "strict",
          "coloraxis": {
           "colorbar": {
            "outlinewidth": 0,
            "ticks": ""
           }
          },
          "colorscale": {
           "diverging": [
            [
             0,
             "#8e0152"
            ],
            [
             0.1,
             "#c51b7d"
            ],
            [
             0.2,
             "#de77ae"
            ],
            [
             0.3,
             "#f1b6da"
            ],
            [
             0.4,
             "#fde0ef"
            ],
            [
             0.5,
             "#f7f7f7"
            ],
            [
             0.6,
             "#e6f5d0"
            ],
            [
             0.7,
             "#b8e186"
            ],
            [
             0.8,
             "#7fbc41"
            ],
            [
             0.9,
             "#4d9221"
            ],
            [
             1,
             "#276419"
            ]
           ],
           "sequential": [
            [
             0,
             "#0d0887"
            ],
            [
             0.1111111111111111,
             "#46039f"
            ],
            [
             0.2222222222222222,
             "#7201a8"
            ],
            [
             0.3333333333333333,
             "#9c179e"
            ],
            [
             0.4444444444444444,
             "#bd3786"
            ],
            [
             0.5555555555555556,
             "#d8576b"
            ],
            [
             0.6666666666666666,
             "#ed7953"
            ],
            [
             0.7777777777777778,
             "#fb9f3a"
            ],
            [
             0.8888888888888888,
             "#fdca26"
            ],
            [
             1,
             "#f0f921"
            ]
           ],
           "sequentialminus": [
            [
             0,
             "#0d0887"
            ],
            [
             0.1111111111111111,
             "#46039f"
            ],
            [
             0.2222222222222222,
             "#7201a8"
            ],
            [
             0.3333333333333333,
             "#9c179e"
            ],
            [
             0.4444444444444444,
             "#bd3786"
            ],
            [
             0.5555555555555556,
             "#d8576b"
            ],
            [
             0.6666666666666666,
             "#ed7953"
            ],
            [
             0.7777777777777778,
             "#fb9f3a"
            ],
            [
             0.8888888888888888,
             "#fdca26"
            ],
            [
             1,
             "#f0f921"
            ]
           ]
          },
          "colorway": [
           "#636efa",
           "#EF553B",
           "#00cc96",
           "#ab63fa",
           "#FFA15A",
           "#19d3f3",
           "#FF6692",
           "#B6E880",
           "#FF97FF",
           "#FECB52"
          ],
          "font": {
           "color": "#2a3f5f"
          },
          "geo": {
           "bgcolor": "white",
           "lakecolor": "white",
           "landcolor": "#E5ECF6",
           "showlakes": true,
           "showland": true,
           "subunitcolor": "white"
          },
          "hoverlabel": {
           "align": "left"
          },
          "hovermode": "closest",
          "mapbox": {
           "style": "light"
          },
          "paper_bgcolor": "white",
          "plot_bgcolor": "#E5ECF6",
          "polar": {
           "angularaxis": {
            "gridcolor": "white",
            "linecolor": "white",
            "ticks": ""
           },
           "bgcolor": "#E5ECF6",
           "radialaxis": {
            "gridcolor": "white",
            "linecolor": "white",
            "ticks": ""
           }
          },
          "scene": {
           "xaxis": {
            "backgroundcolor": "#E5ECF6",
            "gridcolor": "white",
            "gridwidth": 2,
            "linecolor": "white",
            "showbackground": true,
            "ticks": "",
            "zerolinecolor": "white"
           },
           "yaxis": {
            "backgroundcolor": "#E5ECF6",
            "gridcolor": "white",
            "gridwidth": 2,
            "linecolor": "white",
            "showbackground": true,
            "ticks": "",
            "zerolinecolor": "white"
           },
           "zaxis": {
            "backgroundcolor": "#E5ECF6",
            "gridcolor": "white",
            "gridwidth": 2,
            "linecolor": "white",
            "showbackground": true,
            "ticks": "",
            "zerolinecolor": "white"
           }
          },
          "shapedefaults": {
           "line": {
            "color": "#2a3f5f"
           }
          },
          "ternary": {
           "aaxis": {
            "gridcolor": "white",
            "linecolor": "white",
            "ticks": ""
           },
           "baxis": {
            "gridcolor": "white",
            "linecolor": "white",
            "ticks": ""
           },
           "bgcolor": "#E5ECF6",
           "caxis": {
            "gridcolor": "white",
            "linecolor": "white",
            "ticks": ""
           }
          },
          "title": {
           "x": 0.05
          },
          "xaxis": {
           "automargin": true,
           "gridcolor": "white",
           "linecolor": "white",
           "ticks": "",
           "title": {
            "standoff": 15
           },
           "zerolinecolor": "white",
           "zerolinewidth": 2
          },
          "yaxis": {
           "automargin": true,
           "gridcolor": "white",
           "linecolor": "white",
           "ticks": "",
           "title": {
            "standoff": 15
           },
           "zerolinecolor": "white",
           "zerolinewidth": 2
          }
         }
        },
        "xaxis": {
         "anchor": "y",
         "autorange": true,
         "domain": [
          0,
          1
         ],
         "range": [
          -0.5,
          3.5
         ],
         "title": {
          "text": "Year"
         },
         "type": "category"
        },
        "yaxis": {
         "anchor": "x",
         "autorange": true,
         "domain": [
          0,
          1
         ],
         "range": [
          0,
          32638.47265221878
         ],
         "title": {
          "text": "sum of Tuition"
         },
         "type": "linear"
        }
       }
      },
      "image/png": "[encoded data removed]",
      "text/html": [
       "<div>                            <div id=\"29666a53-e0e7-4812-b248-9f8c03a2f07d\" class=\"plotly-graph-div\" style=\"height:525px; width:100%;\"></div>            <script type=\"text/javascript\">                require([\"plotly\"], function(Plotly) {                    window.PLOTLYENV=window.PLOTLYENV || {};                                    if (document.getElementById(\"29666a53-e0e7-4812-b248-9f8c03a2f07d\")) {                    Plotly.newPlot(                        \"29666a53-e0e7-4812-b248-9f8c03a2f07d\",                        [{\"alignmentgroup\":\"True\",\"bingroup\":\"x\",\"histfunc\":\"sum\",\"hovertemplate\":\"SECTOR=Private for-profit, 2-year<br>Year=%{x}<br>sum of Tuition=%{y}<extra></extra>\",\"legendgroup\":\"Private for-profit, 2-year\",\"marker\":{\"color\":\"#636efa\",\"pattern\":{\"shape\":\"\"}},\"name\":\"Private for-profit, 2-year\",\"offsetgroup\":\"Private for-profit, 2-year\",\"orientation\":\"v\",\"showlegend\":true,\"type\":\"histogram\",\"x\":[\"2017-18\",\"2018-19\",\"2019-20\",\"2020-21\"],\"xaxis\":\"x\",\"y\":[14735.92,14923.96,15211.88,15097.48],\"yaxis\":\"y\"},{\"alignmentgroup\":\"True\",\"bingroup\":\"x\",\"histfunc\":\"sum\",\"hovertemplate\":\"SECTOR=Private for-profit, 4-year or above<br>Year=%{x}<br>sum of Tuition=%{y}<extra></extra>\",\"legendgroup\":\"Private for-profit, 4-year or above\",\"marker\":{\"color\":\"#EF553B\",\"pattern\":{\"shape\":\"\"}},\"name\":\"Private for-profit, 4-year or above\",\"offsetgroup\":\"Private for-profit, 4-year or above\",\"orientation\":\"v\",\"showlegend\":true,\"type\":\"histogram\",\"x\":[\"2017-18\",\"2018-19\",\"2019-20\",\"2020-21\"],\"xaxis\":\"x\",\"y\":[18412.85714285714,18672.02380952381,19072.904761904763,19432.130952380954],\"yaxis\":\"y\"},{\"alignmentgroup\":\"True\",\"bingroup\":\"x\",\"histfunc\":\"sum\",\"hovertemplate\":\"SECTOR=Private for-profit, less-than 2-year<br>Year=%{x}<br>sum of Tuition=%{y}<extra></extra>\",\"legendgroup\":\"Private for-profit, less-than 2-year\",\"marker\":{\"color\":\"#00cc96\",\"pattern\":{\"shape\":\"\"}},\"name\":\"Private for-profit, less-than 2-year\",\"offsetgroup\":\"Private for-profit, less-than 2-year\",\"orientation\":\"v\",\"showlegend\":true,\"type\":\"histogram\",\"x\":[\"2017-18\",\"2018-19\",\"2019-20\",\"2020-21\"],\"xaxis\":\"x\",\"y\":[21370.666666666668,21611.666666666668,21744.333333333332,20366.666666666668],\"yaxis\":\"y\"},{\"alignmentgroup\":\"True\",\"bingroup\":\"x\",\"histfunc\":\"sum\",\"hovertemplate\":\"SECTOR=Private not-for-profit, 2-year<br>Year=%{x}<br>sum of Tuition=%{y}<extra></extra>\",\"legendgroup\":\"Private not-for-profit, 2-year\",\"marker\":{\"color\":\"#ab63fa\",\"pattern\":{\"shape\":\"\"}},\"name\":\"Private not-for-profit, 2-year\",\"offsetgroup\":\"Private not-for-profit, 2-year\",\"orientation\":\"v\",\"showlegend\":true,\"type\":\"histogram\",\"x\":[\"2017-18\",\"2018-19\",\"2019-20\",\"2020-21\"],\"xaxis\":\"x\",\"y\":[14182.313725490196,14959.901960784313,15185.980392156862,15434.764705882353],\"yaxis\":\"y\"},{\"alignmentgroup\":\"True\",\"bingroup\":\"x\",\"histfunc\":\"sum\",\"hovertemplate\":\"SECTOR=Private not-for-profit, 4-year or above<br>Year=%{x}<br>sum of Tuition=%{y}<extra></extra>\",\"legendgroup\":\"Private not-for-profit, 4-year or above\",\"marker\":{\"color\":\"#FFA15A\",\"pattern\":{\"shape\":\"\"}},\"name\":\"Private not-for-profit, 4-year or above\",\"offsetgroup\":\"Private not-for-profit, 4-year or above\",\"orientation\":\"v\",\"showlegend\":true,\"type\":\"histogram\",\"x\":[\"2017-18\",\"2018-19\",\"2019-20\",\"2020-21\"],\"xaxis\":\"x\",\"y\":[28699.28966131907,29500.37165775401,30334.24688057041,31006.549019607843],\"yaxis\":\"y\"},{\"alignmentgroup\":\"True\",\"bingroup\":\"x\",\"histfunc\":\"sum\",\"hovertemplate\":\"SECTOR=Private not-for-profit, less-than 2-year<br>Year=%{x}<br>sum of Tuition=%{y}<extra></extra>\",\"legendgroup\":\"Private not-for-profit, less-than 2-year\",\"marker\":{\"color\":\"#19d3f3\",\"pattern\":{\"shape\":\"\"}},\"name\":\"Private not-for-profit, less-than 2-year\",\"offsetgroup\":\"Private not-for-profit, less-than 2-year\",\"orientation\":\"v\",\"showlegend\":true,\"type\":\"histogram\",\"x\":[\"2017-18\",\"2018-19\",\"2019-20\",\"2020-21\"],\"xaxis\":\"x\",\"y\":[10986.666666666666,11086.666666666666,12210.0,12358.333333333334],\"yaxis\":\"y\"},{\"alignmentgroup\":\"True\",\"bingroup\":\"x\",\"histfunc\":\"sum\",\"hovertemplate\":\"SECTOR=Public, 2-year<br>Year=%{x}<br>sum of Tuition=%{y}<extra></extra>\",\"legendgroup\":\"Public, 2-year\",\"marker\":{\"color\":\"#FF6692\",\"pattern\":{\"shape\":\"\"}},\"name\":\"Public, 2-year\",\"offsetgroup\":\"Public, 2-year\",\"orientation\":\"v\",\"showlegend\":true,\"type\":\"histogram\",\"x\":[\"2017-18\",\"2018-19\",\"2019-20\",\"2020-21\"],\"xaxis\":\"x\",\"y\":[4573.4375,4770.125,4794.25,5027.1875],\"yaxis\":\"y\"},{\"alignmentgroup\":\"True\",\"bingroup\":\"x\",\"histfunc\":\"sum\",\"hovertemplate\":\"SECTOR=Public, 4-year or above<br>Year=%{x}<br>sum of Tuition=%{y}<extra></extra>\",\"legendgroup\":\"Public, 4-year or above\",\"marker\":{\"color\":\"#B6E880\",\"pattern\":{\"shape\":\"\"}},\"name\":\"Public, 4-year or above\",\"offsetgroup\":\"Public, 4-year or above\",\"orientation\":\"v\",\"showlegend\":true,\"type\":\"histogram\",\"x\":[\"2017-18\",\"2018-19\",\"2019-20\",\"2020-21\"],\"xaxis\":\"x\",\"y\":[7246.765267175572,7457.114503816794,7621.095419847328,7716.332061068702],\"yaxis\":\"y\"},{\"alignmentgroup\":\"True\",\"bingroup\":\"x\",\"histfunc\":\"sum\",\"hovertemplate\":\"SECTOR=Public, less-than 2-year<br>Year=%{x}<br>sum of Tuition=%{y}<extra></extra>\",\"legendgroup\":\"Public, less-than 2-year\",\"marker\":{\"color\":\"#FF97FF\",\"pattern\":{\"shape\":\"\"}},\"name\":\"Public, less-than 2-year\",\"offsetgroup\":\"Public, less-than 2-year\",\"orientation\":\"v\",\"showlegend\":true,\"type\":\"histogram\",\"x\":[\"2017-18\",\"2018-19\",\"2019-20\",\"2020-21\"],\"xaxis\":\"x\",\"y\":[6374.333333333333,6782.333333333333,7188.666666666667,7284.666666666667],\"yaxis\":\"y\"}],                        {\"barmode\":\"group\",\"legend\":{\"title\":{\"text\":\"SECTOR\"},\"tracegroupgap\":0},\"margin\":{\"t\":60},\"template\":{\"data\":{\"bar\":[{\"error_x\":{\"color\":\"#2a3f5f\"},\"error_y\":{\"color\":\"#2a3f5f\"},\"marker\":{\"line\":{\"color\":\"#E5ECF6\",\"width\":0.5},\"pattern\":{\"fillmode\":\"overlay\",\"size\":10,\"solidity\":0.2}},\"type\":\"bar\"}],\"barpolar\":[{\"marker\":{\"line\":{\"color\":\"#E5ECF6\",\"width\":0.5},\"pattern\":{\"fillmode\":\"overlay\",\"size\":10,\"solidity\":0.2}},\"type\":\"barpolar\"}],\"carpet\":[{\"aaxis\":{\"endlinecolor\":\"#2a3f5f\",\"gridcolor\":\"white\",\"linecolor\":\"white\",\"minorgridcolor\":\"white\",\"startlinecolor\":\"#2a3f5f\"},\"baxis\":{\"endlinecolor\":\"#2a3f5f\",\"gridcolor\":\"white\",\"linecolor\":\"white\",\"minorgridcolor\":\"white\",\"startlinecolor\":\"#2a3f5f\"},\"type\":\"carpet\"}],\"choropleth\":[{\"colorbar\":{\"outlinewidth\":0,\"ticks\":\"\"},\"type\":\"choropleth\"}],\"contour\":[{\"colorbar\":{\"outlinewidth\":0,\"ticks\":\"\"},\"colorscale\":[[0.0,\"#0d0887\"],[0.1111111111111111,\"#46039f\"],[0.2222222222222222,\"#7201a8\"],[0.3333333333333333,\"#9c179e\"],[0.4444444444444444,\"#bd3786\"],[0.5555555555555556,\"#d8576b\"],[0.6666666666666666,\"#ed7953\"],[0.7777777777777778,\"#fb9f3a\"],[0.8888888888888888,\"#fdca26\"],[1.0,\"#f0f921\"]],\"type\":\"contour\"}],\"contourcarpet\":[{\"colorbar\":{\"outlinewidth\":0,\"ticks\":\"\"},\"type\":\"contourcarpet\"}],\"heatmap\":[{\"colorbar\":{\"outlinewidth\":0,\"ticks\":\"\"},\"colorscale\":[[0.0,\"#0d0887\"],[0.1111111111111111,\"#46039f\"],[0.2222222222222222,\"#7201a8\"],[0.3333333333333333,\"#9c179e\"],[0.4444444444444444,\"#bd3786\"],[0.5555555555555556,\"#d8576b\"],[0.6666666666666666,\"#ed7953\"],[0.7777777777777778,\"#fb9f3a\"],[0.8888888888888888,\"#fdca26\"],[1.0,\"#f0f921\"]],\"type\":\"heatmap\"}],\"heatmapgl\":[{\"colorbar\":{\"outlinewidth\":0,\"ticks\":\"\"},\"colorscale\":[[0.0,\"#0d0887\"],[0.1111111111111111,\"#46039f\"],[0.2222222222222222,\"#7201a8\"],[0.3333333333333333,\"#9c179e\"],[0.4444444444444444,\"#bd3786\"],[0.5555555555555556,\"#d8576b\"],[0.6666666666666666,\"#ed7953\"],[0.7777777777777778,\"#fb9f3a\"],[0.8888888888888888,\"#fdca26\"],[1.0,\"#f0f921\"]],\"type\":\"heatmapgl\"}],\"histogram\":[{\"marker\":{\"pattern\":{\"fillmode\":\"overlay\",\"size\":10,\"solidity\":0.2}},\"type\":\"histogram\"}],\"histogram2d\":[{\"colorbar\":{\"outlinewidth\":0,\"ticks\":\"\"},\"colorscale\":[[0.0,\"#0d0887\"],[0.1111111111111111,\"#46039f\"],[0.2222222222222222,\"#7201a8\"],[0.3333333333333333,\"#9c179e\"],[0.4444444444444444,\"#bd3786\"],[0.5555555555555556,\"#d8576b\"],[0.6666666666666666,\"#ed7953\"],[0.7777777777777778,\"#fb9f3a\"],[0.8888888888888888,\"#fdca26\"],[1.0,\"#f0f921\"]],\"type\":\"histogram2d\"}],\"histogram2dcontour\":[{\"colorbar\":{\"outlinewidth\":0,\"ticks\":\"\"},\"colorscale\":[[0.0,\"#0d0887\"],[0.1111111111111111,\"#46039f\"],[0.2222222222222222,\"#7201a8\"],[0.3333333333333333,\"#9c179e\"],[0.4444444444444444,\"#bd3786\"],[0.5555555555555556,\"#d8576b\"],[0.6666666666666666,\"#ed7953\"],[0.7777777777777778,\"#fb9f3a\"],[0.8888888888888888,\"#fdca26\"],[1.0,\"#f0f921\"]],\"type\":\"histogram2dcontour\"}],\"mesh3d\":[{\"colorbar\":{\"outlinewidth\":0,\"ticks\":\"\"},\"type\":\"mesh3d\"}],\"parcoords\":[{\"line\":{\"colorbar\":{\"outlinewidth\":0,\"ticks\":\"\"}},\"type\":\"parcoords\"}],\"pie\":[{\"automargin\":true,\"type\":\"pie\"}],\"scatter\":[{\"marker\":{\"colorbar\":{\"outlinewidth\":0,\"ticks\":\"\"}},\"type\":\"scatter\"}],\"scatter3d\":[{\"line\":{\"colorbar\":{\"outlinewidth\":0,\"ticks\":\"\"}},\"marker\":{\"colorbar\":{\"outlinewidth\":0,\"ticks\":\"\"}},\"type\":\"scatter3d\"}],\"scattercarpet\":[{\"marker\":{\"colorbar\":{\"outlinewidth\":0,\"ticks\":\"\"}},\"type\":\"scattercarpet\"}],\"scattergeo\":[{\"marker\":{\"colorbar\":{\"outlinewidth\":0,\"ticks\":\"\"}},\"type\":\"scattergeo\"}],\"scattergl\":[{\"marker\":{\"colorbar\":{\"outlinewidth\":0,\"ticks\":\"\"}},\"type\":\"scattergl\"}],\"scattermapbox\":[{\"marker\":{\"colorbar\":{\"outlinewidth\":0,\"ticks\":\"\"}},\"type\":\"scattermapbox\"}],\"scatterpolar\":[{\"marker\":{\"colorbar\":{\"outlinewidth\":0,\"ticks\":\"\"}},\"type\":\"scatterpolar\"}],\"scatterpolargl\":[{\"marker\":{\"colorbar\":{\"outlinewidth\":0,\"ticks\":\"\"}},\"type\":\"scatterpolargl\"}],\"scatterternary\":[{\"marker\":{\"colorbar\":{\"outlinewidth\":0,\"ticks\":\"\"}},\"type\":\"scatterternary\"}],\"surface\":[{\"colorbar\":{\"outlinewidth\":0,\"ticks\":\"\"},\"colorscale\":[[0.0,\"#0d0887\"],[0.1111111111111111,\"#46039f\"],[0.2222222222222222,\"#7201a8\"],[0.3333333333333333,\"#9c179e\"],[0.4444444444444444,\"#bd3786\"],[0.5555555555555556,\"#d8576b\"],[0.6666666666666666,\"#ed7953\"],[0.7777777777777778,\"#fb9f3a\"],[0.8888888888888888,\"#fdca26\"],[1.0,\"#f0f921\"]],\"type\":\"surface\"}],\"table\":[{\"cells\":{\"fill\":{\"color\":\"#EBF0F8\"},\"line\":{\"color\":\"white\"}},\"header\":{\"fill\":{\"color\":\"#C8D4E3\"},\"line\":{\"color\":\"white\"}},\"type\":\"table\"}]},\"layout\":{\"annotationdefaults\":{\"arrowcolor\":\"#2a3f5f\",\"arrowhead\":0,\"arrowwidth\":1},\"autotypenumbers\":\"strict\",\"coloraxis\":{\"colorbar\":{\"outlinewidth\":0,\"ticks\":\"\"}},\"colorscale\":{\"diverging\":[[0,\"#8e0152\"],[0.1,\"#c51b7d\"],[0.2,\"#de77ae\"],[0.3,\"#f1b6da\"],[0.4,\"#fde0ef\"],[0.5,\"#f7f7f7\"],[0.6,\"#e6f5d0\"],[0.7,\"#b8e186\"],[0.8,\"#7fbc41\"],[0.9,\"#4d9221\"],[1,\"#276419\"]],\"sequential\":[[0.0,\"#0d0887\"],[0.1111111111111111,\"#46039f\"],[0.2222222222222222,\"#7201a8\"],[0.3333333333333333,\"#9c179e\"],[0.4444444444444444,\"#bd3786\"],[0.5555555555555556,\"#d8576b\"],[0.6666666666666666,\"#ed7953\"],[0.7777777777777778,\"#fb9f3a\"],[0.8888888888888888,\"#fdca26\"],[1.0,\"#f0f921\"]],\"sequentialminus\":[[0.0,\"#0d0887\"],[0.1111111111111111,\"#46039f\"],[0.2222222222222222,\"#7201a8\"],[0.3333333333333333,\"#9c179e\"],[0.4444444444444444,\"#bd3786\"],[0.5555555555555556,\"#d8576b\"],[0.6666666666666666,\"#ed7953\"],[0.7777777777777778,\"#fb9f3a\"],[0.8888888888888888,\"#fdca26\"],[1.0,\"#f0f921\"]]},\"colorway\":[\"#636efa\",\"#EF553B\",\"#00cc96\",\"#ab63fa\",\"#FFA15A\",\"#19d3f3\",\"#FF6692\",\"#B6E880\",\"#FF97FF\",\"#FECB52\"],\"font\":{\"color\":\"#2a3f5f\"},\"geo\":{\"bgcolor\":\"white\",\"lakecolor\":\"white\",\"landcolor\":\"#E5ECF6\",\"showlakes\":true,\"showland\":true,\"subunitcolor\":\"white\"},\"hoverlabel\":{\"align\":\"left\"},\"hovermode\":\"closest\",\"mapbox\":{\"style\":\"light\"},\"paper_bgcolor\":\"white\",\"plot_bgcolor\":\"#E5ECF6\",\"polar\":{\"angularaxis\":{\"gridcolor\":\"white\",\"linecolor\":\"white\",\"ticks\":\"\"},\"bgcolor\":\"#E5ECF6\",\"radialaxis\":{\"gridcolor\":\"white\",\"linecolor\":\"white\",\"ticks\":\"\"}},\"scene\":{\"xaxis\":{\"backgroundcolor\":\"#E5ECF6\",\"gridcolor\":\"white\",\"gridwidth\":2,\"linecolor\":\"white\",\"showbackground\":true,\"ticks\":\"\",\"zerolinecolor\":\"white\"},\"yaxis\":{\"backgroundcolor\":\"#E5ECF6\",\"gridcolor\":\"white\",\"gridwidth\":2,\"linecolor\":\"white\",\"showbackground\":true,\"ticks\":\"\",\"zerolinecolor\":\"white\"},\"zaxis\":{\"backgroundcolor\":\"#E5ECF6\",\"gridcolor\":\"white\",\"gridwidth\":2,\"linecolor\":\"white\",\"showbackground\":true,\"ticks\":\"\",\"zerolinecolor\":\"white\"}},\"shapedefaults\":{\"line\":{\"color\":\"#2a3f5f\"}},\"ternary\":{\"aaxis\":{\"gridcolor\":\"white\",\"linecolor\":\"white\",\"ticks\":\"\"},\"baxis\":{\"gridcolor\":\"white\",\"linecolor\":\"white\",\"ticks\":\"\"},\"bgcolor\":\"#E5ECF6\",\"caxis\":{\"gridcolor\":\"white\",\"linecolor\":\"white\",\"ticks\":\"\"}},\"title\":{\"x\":0.05},\"xaxis\":{\"automargin\":true,\"gridcolor\":\"white\",\"linecolor\":\"white\",\"ticks\":\"\",\"title\":{\"standoff\":15},\"zerolinecolor\":\"white\",\"zerolinewidth\":2},\"yaxis\":{\"automargin\":true,\"gridcolor\":\"white\",\"linecolor\":\"white\",\"ticks\":\"\",\"title\":{\"standoff\":15},\"zerolinecolor\":\"white\",\"zerolinewidth\":2}}},\"xaxis\":{\"anchor\":\"y\",\"domain\":[0.0,1.0],\"title\":{\"text\":\"Year\"}},\"yaxis\":{\"anchor\":\"x\",\"domain\":[0.0,1.0],\"title\":{\"text\":\"sum of Tuition\"}}},                        {\"responsive\": true}                    ).then(function(){\n",
       "                            \n",
       "var gd = document.getElementById('29666a53-e0e7-4812-b248-9f8c03a2f07d');\n",
       "var x = new MutationObserver(function (mutations, observer) {{\n",
       "        var display = window.getComputedStyle(gd).display;\n",
       "        if (!display || display === 'none') {{\n",
       "            console.log([gd, 'removed!']);\n",
       "            Plotly.purge(gd);\n",
       "            observer.disconnect();\n",
       "        }}\n",
       "}});\n",
       "\n",
       "// Listen for the removal of the full notebook cells\n",
       "var notebookContainer = gd.closest('#notebook-container');\n",
       "if (notebookContainer) {{\n",
       "    x.observe(notebookContainer, {childList: true});\n",
       "}}\n",
       "\n",
       "// Listen for the clearing of the current output cell\n",
       "var outputEl = gd.closest('.output');\n",
       "if (outputEl) {{\n",
       "    x.observe(outputEl, {childList: true});\n",
       "}}\n",
       "\n",
       "                        })                };                });            </script>        </div>"
      ]
     },
     "metadata": {},
     "output_type": "display_data"
    }
   ],
   "source": [
    "#(Plotly)Plot the data\n",
    "fig = px.histogram(dfTimeTuit1, \n",
    "        x = 'Year', \n",
    "        y = 'Tuition',\n",
    "        color = 'SECTOR',\n",
    "        barmode = 'group')\n",
    "fig.show()\n",
    "#fig.write_html('dfTimeTuit1.html')"
   ]
  },
  {
   "cell_type": "code",
   "execution_count": 51,
   "id": "9d58c321-9f56-400c-8be1-bb78fa26ec86",
   "metadata": {},
   "outputs": [],
   "source": [
    "#Undergrad Out-state Tuition vs. Time (Types of Institution)\n",
    "dfOutstate = dfAll[['UNITID','SECTOR','CHG3AT0','CHG3AT1','CHG3AT2','CHG3AT3']].drop_duplicates()\n",
    "\n",
    "#Change the type of the date column to Int64\n",
    "dfOutstate['CHG3AT0'] = dfOutstate['CHG3AT0'].replace('.', -1).astype('int64')\n",
    "dfOutstate['CHG3AT1'] = dfOutstate['CHG3AT1'].replace('.', -1).astype('int64')\n",
    "dfOutstate['CHG3AT2'] = dfOutstate['CHG3AT2'].replace('.', -1).astype('int64')\n",
    "dfOutstate['CHG3AT3'] = dfOutstate['CHG3AT3'].replace('.', -1).astype('int64')\n",
    "\n",
    "dfOutstate = dfOutstate[(dfOutstate['CHG3AT0'] >= 0) & (dfOutstate['CHG3AT1'] >= 0) & (dfOutstate['CHG3AT2'] >= 0) & (dfOutstate['CHG3AT3'] >= 0)]\n",
    "\n",
    "#Rename the column\n",
    "dfOutstate = dfOutstate.rename(columns = {'CHG3AT0':'2017-18',\n",
    "                                        'CHG3AT1':'2018-19',\n",
    "                                        'CHG3AT2':'2019-20',\n",
    "                                        'CHG3AT3':'2020-21'})\n",
    "#Reshape the data\n",
    "dfTimeTuit2 = dfOutstate.dropna().melt(id_vars = ['UNITID','SECTOR'], value_vars = ['2017-18','2018-19','2019-20','2020-21'],\n",
    "                             var_name = 'Year', value_name = 'Tuition')\n",
    "\n",
    "\n",
    "\n",
    "#Change the type of the date column to Int64\n",
    "dfTimeTuit2 = dfTimeTuit2[['SECTOR','Year','Tuition']].groupby(['SECTOR','Year'],as_index = False).mean()\n",
    "\n",
    "#Change the values of sector\n",
    "dfTimeTuit2['SECTOR'] = dfTimeTuit2['SECTOR'].replace(1,'Public, 4-year or above')\n",
    "dfTimeTuit2['SECTOR'] = dfTimeTuit2['SECTOR'].replace(2,'Private not-for-profit, 4-year or above')\n",
    "dfTimeTuit2['SECTOR'] = dfTimeTuit2['SECTOR'].replace(3,'Private for-profit, 4-year or above')\n",
    "dfTimeTuit2['SECTOR'] = dfTimeTuit2['SECTOR'].replace(4,'Public, 2-year')\n",
    "dfTimeTuit2['SECTOR'] = dfTimeTuit2['SECTOR'].replace(5,'Private not-for-profit, 2-year')\n",
    "dfTimeTuit2['SECTOR'] = dfTimeTuit2['SECTOR'].replace(6,'Private for-profit, 2-year')\n",
    "dfTimeTuit2['SECTOR'] = dfTimeTuit2['SECTOR'].replace(7,'Public, less-than 2-year')\n",
    "dfTimeTuit2['SECTOR'] = dfTimeTuit2['SECTOR'].replace(8,'Private not-for-profit, less-than 2-year')\n",
    "dfTimeTuit2['SECTOR'] = dfTimeTuit2['SECTOR'].replace(9,'Private for-profit, less-than 2-year')\n",
    "dfTimeTuit2.to_csv('dfTimeTuit2.csv')"
   ]
  },
  {
   "cell_type": "code",
   "execution_count": 8,
   "id": "c5a9b049-6a77-4673-ae51-3d3edbef6eee",
   "metadata": {},
   "outputs": [
    {
     "data": {
      "application/vnd.plotly.v1+json": {
       "config": {
        "plotlyServerURL": "https://plot.ly"
       },
       "data": [
        {
         "alignmentgroup": "True",
         "bingroup": "x",
         "histfunc": "sum",
         "hovertemplate": "SECTOR=Private for-profit, 2-year<br>Year=%{x}<br>sum of Tuition=%{y}<extra></extra>",
         "legendgroup": "Private for-profit, 2-year",
         "marker": {
          "color": "#636efa",
          "pattern": {
           "shape": ""
          }
         },
         "name": "Private for-profit, 2-year",
         "offsetgroup": "Private for-profit, 2-year",
         "orientation": "v",
         "showlegend": true,
         "type": "histogram",
         "x": [
          "2017-18",
          "2018-19",
          "2019-20",
          "2020-21"
         ],
         "xaxis": "x",
         "y": [
          14735.92,
          14923.96,
          15211.88,
          15097.48
         ],
         "yaxis": "y"
        },
        {
         "alignmentgroup": "True",
         "bingroup": "x",
         "histfunc": "sum",
         "hovertemplate": "SECTOR=Private for-profit, 4-year or above<br>Year=%{x}<br>sum of Tuition=%{y}<extra></extra>",
         "legendgroup": "Private for-profit, 4-year or above",
         "marker": {
          "color": "#EF553B",
          "pattern": {
           "shape": ""
          }
         },
         "name": "Private for-profit, 4-year or above",
         "offsetgroup": "Private for-profit, 4-year or above",
         "orientation": "v",
         "showlegend": true,
         "type": "histogram",
         "x": [
          "2017-18",
          "2018-19",
          "2019-20",
          "2020-21"
         ],
         "xaxis": "x",
         "y": [
          18412.85714285714,
          18802.97619047619,
          19172.904761904763,
          19536.130952380954
         ],
         "yaxis": "y"
        },
        {
         "alignmentgroup": "True",
         "bingroup": "x",
         "histfunc": "sum",
         "hovertemplate": "SECTOR=Private for-profit, less-than 2-year<br>Year=%{x}<br>sum of Tuition=%{y}<extra></extra>",
         "legendgroup": "Private for-profit, less-than 2-year",
         "marker": {
          "color": "#00cc96",
          "pattern": {
           "shape": ""
          }
         },
         "name": "Private for-profit, less-than 2-year",
         "offsetgroup": "Private for-profit, less-than 2-year",
         "orientation": "v",
         "showlegend": true,
         "type": "histogram",
         "x": [
          "2017-18",
          "2018-19",
          "2019-20",
          "2020-21"
         ],
         "xaxis": "x",
         "y": [
          21370.666666666668,
          21611.666666666668,
          21744.333333333332,
          20366.666666666668
         ],
         "yaxis": "y"
        },
        {
         "alignmentgroup": "True",
         "bingroup": "x",
         "histfunc": "sum",
         "hovertemplate": "SECTOR=Private not-for-profit, 2-year<br>Year=%{x}<br>sum of Tuition=%{y}<extra></extra>",
         "legendgroup": "Private not-for-profit, 2-year",
         "marker": {
          "color": "#ab63fa",
          "pattern": {
           "shape": ""
          }
         },
         "name": "Private not-for-profit, 2-year",
         "offsetgroup": "Private not-for-profit, 2-year",
         "orientation": "v",
         "showlegend": true,
         "type": "histogram",
         "x": [
          "2017-18",
          "2018-19",
          "2019-20",
          "2020-21"
         ],
         "xaxis": "x",
         "y": [
          14408.882352941177,
          15190.35294117647,
          15430.764705882353,
          15664.450980392157
         ],
         "yaxis": "y"
        },
        {
         "alignmentgroup": "True",
         "bingroup": "x",
         "histfunc": "sum",
         "hovertemplate": "SECTOR=Private not-for-profit, 4-year or above<br>Year=%{x}<br>sum of Tuition=%{y}<extra></extra>",
         "legendgroup": "Private not-for-profit, 4-year or above",
         "marker": {
          "color": "#FFA15A",
          "pattern": {
           "shape": ""
          }
         },
         "name": "Private not-for-profit, 4-year or above",
         "offsetgroup": "Private not-for-profit, 4-year or above",
         "orientation": "v",
         "showlegend": true,
         "type": "histogram",
         "x": [
          "2017-18",
          "2018-19",
          "2019-20",
          "2020-21"
         ],
         "xaxis": "x",
         "y": [
          28704.50356506239,
          29505.585561497326,
          30339.460784313724,
          31011.762923351158
         ],
         "yaxis": "y"
        },
        {
         "alignmentgroup": "True",
         "bingroup": "x",
         "histfunc": "sum",
         "hovertemplate": "SECTOR=Private not-for-profit, less-than 2-year<br>Year=%{x}<br>sum of Tuition=%{y}<extra></extra>",
         "legendgroup": "Private not-for-profit, less-than 2-year",
         "marker": {
          "color": "#19d3f3",
          "pattern": {
           "shape": ""
          }
         },
         "name": "Private not-for-profit, less-than 2-year",
         "offsetgroup": "Private not-for-profit, less-than 2-year",
         "orientation": "v",
         "showlegend": true,
         "type": "histogram",
         "x": [
          "2017-18",
          "2018-19",
          "2019-20",
          "2020-21"
         ],
         "xaxis": "x",
         "y": [
          10986.666666666666,
          11086.666666666666,
          12210,
          12358.333333333334
         ],
         "yaxis": "y"
        },
        {
         "alignmentgroup": "True",
         "bingroup": "x",
         "histfunc": "sum",
         "hovertemplate": "SECTOR=Public, 2-year<br>Year=%{x}<br>sum of Tuition=%{y}<extra></extra>",
         "legendgroup": "Public, 2-year",
         "marker": {
          "color": "#FF6692",
          "pattern": {
           "shape": ""
          }
         },
         "name": "Public, 2-year",
         "offsetgroup": "Public, 2-year",
         "orientation": "v",
         "showlegend": true,
         "type": "histogram",
         "x": [
          "2017-18",
          "2018-19",
          "2019-20",
          "2020-21"
         ],
         "xaxis": "x",
         "y": [
          10241.6875,
          10502.0625,
          10566.4375,
          10298.875
         ],
         "yaxis": "y"
        },
        {
         "alignmentgroup": "True",
         "bingroup": "x",
         "histfunc": "sum",
         "hovertemplate": "SECTOR=Public, 4-year or above<br>Year=%{x}<br>sum of Tuition=%{y}<extra></extra>",
         "legendgroup": "Public, 4-year or above",
         "marker": {
          "color": "#B6E880",
          "pattern": {
           "shape": ""
          }
         },
         "name": "Public, 4-year or above",
         "offsetgroup": "Public, 4-year or above",
         "orientation": "v",
         "showlegend": true,
         "type": "histogram",
         "x": [
          "2017-18",
          "2018-19",
          "2019-20",
          "2020-21"
         ],
         "xaxis": "x",
         "y": [
          18317.76526717557,
          18693.60496183206,
          19045.50954198473,
          19164.98854961832
         ],
         "yaxis": "y"
        },
        {
         "alignmentgroup": "True",
         "bingroup": "x",
         "histfunc": "sum",
         "hovertemplate": "SECTOR=Public, less-than 2-year<br>Year=%{x}<br>sum of Tuition=%{y}<extra></extra>",
         "legendgroup": "Public, less-than 2-year",
         "marker": {
          "color": "#FF97FF",
          "pattern": {
           "shape": ""
          }
         },
         "name": "Public, less-than 2-year",
         "offsetgroup": "Public, less-than 2-year",
         "orientation": "v",
         "showlegend": true,
         "type": "histogram",
         "x": [
          "2017-18",
          "2018-19",
          "2019-20",
          "2020-21"
         ],
         "xaxis": "x",
         "y": [
          6374.333333333333,
          6782.333333333333,
          7188.666666666667,
          7284.666666666667
         ],
         "yaxis": "y"
        }
       ],
       "layout": {
        "autosize": true,
        "barmode": "group",
        "legend": {
         "title": {
          "text": "SECTOR"
         },
         "tracegroupgap": 0
        },
        "margin": {
         "t": 60
        },
        "template": {
         "data": {
          "bar": [
           {
            "error_x": {
             "color": "#2a3f5f"
            },
            "error_y": {
             "color": "#2a3f5f"
            },
            "marker": {
             "line": {
              "color": "#E5ECF6",
              "width": 0.5
             },
             "pattern": {
              "fillmode": "overlay",
              "size": 10,
              "solidity": 0.2
             }
            },
            "type": "bar"
           }
          ],
          "barpolar": [
           {
            "marker": {
             "line": {
              "color": "#E5ECF6",
              "width": 0.5
             },
             "pattern": {
              "fillmode": "overlay",
              "size": 10,
              "solidity": 0.2
             }
            },
            "type": "barpolar"
           }
          ],
          "carpet": [
           {
            "aaxis": {
             "endlinecolor": "#2a3f5f",
             "gridcolor": "white",
             "linecolor": "white",
             "minorgridcolor": "white",
             "startlinecolor": "#2a3f5f"
            },
            "baxis": {
             "endlinecolor": "#2a3f5f",
             "gridcolor": "white",
             "linecolor": "white",
             "minorgridcolor": "white",
             "startlinecolor": "#2a3f5f"
            },
            "type": "carpet"
           }
          ],
          "choropleth": [
           {
            "colorbar": {
             "outlinewidth": 0,
             "ticks": ""
            },
            "type": "choropleth"
           }
          ],
          "contour": [
           {
            "colorbar": {
             "outlinewidth": 0,
             "ticks": ""
            },
            "colorscale": [
             [
              0,
              "#0d0887"
             ],
             [
              0.1111111111111111,
              "#46039f"
             ],
             [
              0.2222222222222222,
              "#7201a8"
             ],
             [
              0.3333333333333333,
              "#9c179e"
             ],
             [
              0.4444444444444444,
              "#bd3786"
             ],
             [
              0.5555555555555556,
              "#d8576b"
             ],
             [
              0.6666666666666666,
              "#ed7953"
             ],
             [
              0.7777777777777778,
              "#fb9f3a"
             ],
             [
              0.8888888888888888,
              "#fdca26"
             ],
             [
              1,
              "#f0f921"
             ]
            ],
            "type": "contour"
           }
          ],
          "contourcarpet": [
           {
            "colorbar": {
             "outlinewidth": 0,
             "ticks": ""
            },
            "type": "contourcarpet"
           }
          ],
          "heatmap": [
           {
            "colorbar": {
             "outlinewidth": 0,
             "ticks": ""
            },
            "colorscale": [
             [
              0,
              "#0d0887"
             ],
             [
              0.1111111111111111,
              "#46039f"
             ],
             [
              0.2222222222222222,
              "#7201a8"
             ],
             [
              0.3333333333333333,
              "#9c179e"
             ],
             [
              0.4444444444444444,
              "#bd3786"
             ],
             [
              0.5555555555555556,
              "#d8576b"
             ],
             [
              0.6666666666666666,
              "#ed7953"
             ],
             [
              0.7777777777777778,
              "#fb9f3a"
             ],
             [
              0.8888888888888888,
              "#fdca26"
             ],
             [
              1,
              "#f0f921"
             ]
            ],
            "type": "heatmap"
           }
          ],
          "heatmapgl": [
           {
            "colorbar": {
             "outlinewidth": 0,
             "ticks": ""
            },
            "colorscale": [
             [
              0,
              "#0d0887"
             ],
             [
              0.1111111111111111,
              "#46039f"
             ],
             [
              0.2222222222222222,
              "#7201a8"
             ],
             [
              0.3333333333333333,
              "#9c179e"
             ],
             [
              0.4444444444444444,
              "#bd3786"
             ],
             [
              0.5555555555555556,
              "#d8576b"
             ],
             [
              0.6666666666666666,
              "#ed7953"
             ],
             [
              0.7777777777777778,
              "#fb9f3a"
             ],
             [
              0.8888888888888888,
              "#fdca26"
             ],
             [
              1,
              "#f0f921"
             ]
            ],
            "type": "heatmapgl"
           }
          ],
          "histogram": [
           {
            "marker": {
             "pattern": {
              "fillmode": "overlay",
              "size": 10,
              "solidity": 0.2
             }
            },
            "type": "histogram"
           }
          ],
          "histogram2d": [
           {
            "colorbar": {
             "outlinewidth": 0,
             "ticks": ""
            },
            "colorscale": [
             [
              0,
              "#0d0887"
             ],
             [
              0.1111111111111111,
              "#46039f"
             ],
             [
              0.2222222222222222,
              "#7201a8"
             ],
             [
              0.3333333333333333,
              "#9c179e"
             ],
             [
              0.4444444444444444,
              "#bd3786"
             ],
             [
              0.5555555555555556,
              "#d8576b"
             ],
             [
              0.6666666666666666,
              "#ed7953"
             ],
             [
              0.7777777777777778,
              "#fb9f3a"
             ],
             [
              0.8888888888888888,
              "#fdca26"
             ],
             [
              1,
              "#f0f921"
             ]
            ],
            "type": "histogram2d"
           }
          ],
          "histogram2dcontour": [
           {
            "colorbar": {
             "outlinewidth": 0,
             "ticks": ""
            },
            "colorscale": [
             [
              0,
              "#0d0887"
             ],
             [
              0.1111111111111111,
              "#46039f"
             ],
             [
              0.2222222222222222,
              "#7201a8"
             ],
             [
              0.3333333333333333,
              "#9c179e"
             ],
             [
              0.4444444444444444,
              "#bd3786"
             ],
             [
              0.5555555555555556,
              "#d8576b"
             ],
             [
              0.6666666666666666,
              "#ed7953"
             ],
             [
              0.7777777777777778,
              "#fb9f3a"
             ],
             [
              0.8888888888888888,
              "#fdca26"
             ],
             [
              1,
              "#f0f921"
             ]
            ],
            "type": "histogram2dcontour"
           }
          ],
          "mesh3d": [
           {
            "colorbar": {
             "outlinewidth": 0,
             "ticks": ""
            },
            "type": "mesh3d"
           }
          ],
          "parcoords": [
           {
            "line": {
             "colorbar": {
              "outlinewidth": 0,
              "ticks": ""
             }
            },
            "type": "parcoords"
           }
          ],
          "pie": [
           {
            "automargin": true,
            "type": "pie"
           }
          ],
          "scatter": [
           {
            "marker": {
             "colorbar": {
              "outlinewidth": 0,
              "ticks": ""
             }
            },
            "type": "scatter"
           }
          ],
          "scatter3d": [
           {
            "line": {
             "colorbar": {
              "outlinewidth": 0,
              "ticks": ""
             }
            },
            "marker": {
             "colorbar": {
              "outlinewidth": 0,
              "ticks": ""
             }
            },
            "type": "scatter3d"
           }
          ],
          "scattercarpet": [
           {
            "marker": {
             "colorbar": {
              "outlinewidth": 0,
              "ticks": ""
             }
            },
            "type": "scattercarpet"
           }
          ],
          "scattergeo": [
           {
            "marker": {
             "colorbar": {
              "outlinewidth": 0,
              "ticks": ""
             }
            },
            "type": "scattergeo"
           }
          ],
          "scattergl": [
           {
            "marker": {
             "colorbar": {
              "outlinewidth": 0,
              "ticks": ""
             }
            },
            "type": "scattergl"
           }
          ],
          "scattermapbox": [
           {
            "marker": {
             "colorbar": {
              "outlinewidth": 0,
              "ticks": ""
             }
            },
            "type": "scattermapbox"
           }
          ],
          "scatterpolar": [
           {
            "marker": {
             "colorbar": {
              "outlinewidth": 0,
              "ticks": ""
             }
            },
            "type": "scatterpolar"
           }
          ],
          "scatterpolargl": [
           {
            "marker": {
             "colorbar": {
              "outlinewidth": 0,
              "ticks": ""
             }
            },
            "type": "scatterpolargl"
           }
          ],
          "scatterternary": [
           {
            "marker": {
             "colorbar": {
              "outlinewidth": 0,
              "ticks": ""
             }
            },
            "type": "scatterternary"
           }
          ],
          "surface": [
           {
            "colorbar": {
             "outlinewidth": 0,
             "ticks": ""
            },
            "colorscale": [
             [
              0,
              "#0d0887"
             ],
             [
              0.1111111111111111,
              "#46039f"
             ],
             [
              0.2222222222222222,
              "#7201a8"
             ],
             [
              0.3333333333333333,
              "#9c179e"
             ],
             [
              0.4444444444444444,
              "#bd3786"
             ],
             [
              0.5555555555555556,
              "#d8576b"
             ],
             [
              0.6666666666666666,
              "#ed7953"
             ],
             [
              0.7777777777777778,
              "#fb9f3a"
             ],
             [
              0.8888888888888888,
              "#fdca26"
             ],
             [
              1,
              "#f0f921"
             ]
            ],
            "type": "surface"
           }
          ],
          "table": [
           {
            "cells": {
             "fill": {
              "color": "#EBF0F8"
             },
             "line": {
              "color": "white"
             }
            },
            "header": {
             "fill": {
              "color": "#C8D4E3"
             },
             "line": {
              "color": "white"
             }
            },
            "type": "table"
           }
          ]
         },
         "layout": {
          "annotationdefaults": {
           "arrowcolor": "#2a3f5f",
           "arrowhead": 0,
           "arrowwidth": 1
          },
          "autotypenumbers": "strict",
          "coloraxis": {
           "colorbar": {
            "outlinewidth": 0,
            "ticks": ""
           }
          },
          "colorscale": {
           "diverging": [
            [
             0,
             "#8e0152"
            ],
            [
             0.1,
             "#c51b7d"
            ],
            [
             0.2,
             "#de77ae"
            ],
            [
             0.3,
             "#f1b6da"
            ],
            [
             0.4,
             "#fde0ef"
            ],
            [
             0.5,
             "#f7f7f7"
            ],
            [
             0.6,
             "#e6f5d0"
            ],
            [
             0.7,
             "#b8e186"
            ],
            [
             0.8,
             "#7fbc41"
            ],
            [
             0.9,
             "#4d9221"
            ],
            [
             1,
             "#276419"
            ]
           ],
           "sequential": [
            [
             0,
             "#0d0887"
            ],
            [
             0.1111111111111111,
             "#46039f"
            ],
            [
             0.2222222222222222,
             "#7201a8"
            ],
            [
             0.3333333333333333,
             "#9c179e"
            ],
            [
             0.4444444444444444,
             "#bd3786"
            ],
            [
             0.5555555555555556,
             "#d8576b"
            ],
            [
             0.6666666666666666,
             "#ed7953"
            ],
            [
             0.7777777777777778,
             "#fb9f3a"
            ],
            [
             0.8888888888888888,
             "#fdca26"
            ],
            [
             1,
             "#f0f921"
            ]
           ],
           "sequentialminus": [
            [
             0,
             "#0d0887"
            ],
            [
             0.1111111111111111,
             "#46039f"
            ],
            [
             0.2222222222222222,
             "#7201a8"
            ],
            [
             0.3333333333333333,
             "#9c179e"
            ],
            [
             0.4444444444444444,
             "#bd3786"
            ],
            [
             0.5555555555555556,
             "#d8576b"
            ],
            [
             0.6666666666666666,
             "#ed7953"
            ],
            [
             0.7777777777777778,
             "#fb9f3a"
            ],
            [
             0.8888888888888888,
             "#fdca26"
            ],
            [
             1,
             "#f0f921"
            ]
           ]
          },
          "colorway": [
           "#636efa",
           "#EF553B",
           "#00cc96",
           "#ab63fa",
           "#FFA15A",
           "#19d3f3",
           "#FF6692",
           "#B6E880",
           "#FF97FF",
           "#FECB52"
          ],
          "font": {
           "color": "#2a3f5f"
          },
          "geo": {
           "bgcolor": "white",
           "lakecolor": "white",
           "landcolor": "#E5ECF6",
           "showlakes": true,
           "showland": true,
           "subunitcolor": "white"
          },
          "hoverlabel": {
           "align": "left"
          },
          "hovermode": "closest",
          "mapbox": {
           "style": "light"
          },
          "paper_bgcolor": "white",
          "plot_bgcolor": "#E5ECF6",
          "polar": {
           "angularaxis": {
            "gridcolor": "white",
            "linecolor": "white",
            "ticks": ""
           },
           "bgcolor": "#E5ECF6",
           "radialaxis": {
            "gridcolor": "white",
            "linecolor": "white",
            "ticks": ""
           }
          },
          "scene": {
           "xaxis": {
            "backgroundcolor": "#E5ECF6",
            "gridcolor": "white",
            "gridwidth": 2,
            "linecolor": "white",
            "showbackground": true,
            "ticks": "",
            "zerolinecolor": "white"
           },
           "yaxis": {
            "backgroundcolor": "#E5ECF6",
            "gridcolor": "white",
            "gridwidth": 2,
            "linecolor": "white",
            "showbackground": true,
            "ticks": "",
            "zerolinecolor": "white"
           },
           "zaxis": {
            "backgroundcolor": "#E5ECF6",
            "gridcolor": "white",
            "gridwidth": 2,
            "linecolor": "white",
            "showbackground": true,
            "ticks": "",
            "zerolinecolor": "white"
           }
          },
          "shapedefaults": {
           "line": {
            "color": "#2a3f5f"
           }
          },
          "ternary": {
           "aaxis": {
            "gridcolor": "white",
            "linecolor": "white",
            "ticks": ""
           },
           "baxis": {
            "gridcolor": "white",
            "linecolor": "white",
            "ticks": ""
           },
           "bgcolor": "#E5ECF6",
           "caxis": {
            "gridcolor": "white",
            "linecolor": "white",
            "ticks": ""
           }
          },
          "title": {
           "x": 0.05
          },
          "xaxis": {
           "automargin": true,
           "gridcolor": "white",
           "linecolor": "white",
           "ticks": "",
           "title": {
            "standoff": 15
           },
           "zerolinecolor": "white",
           "zerolinewidth": 2
          },
          "yaxis": {
           "automargin": true,
           "gridcolor": "white",
           "linecolor": "white",
           "ticks": "",
           "title": {
            "standoff": 15
           },
           "zerolinecolor": "white",
           "zerolinewidth": 2
          }
         }
        },
        "xaxis": {
         "anchor": "y",
         "autorange": true,
         "domain": [
          0,
          1
         ],
         "range": [
          -0.5,
          3.5
         ],
         "title": {
          "text": "Year"
         },
         "type": "category"
        },
        "yaxis": {
         "anchor": "x",
         "autorange": true,
         "domain": [
          0,
          1
         ],
         "range": [
          0,
          32643.96097194859
         ],
         "title": {
          "text": "sum of Tuition"
         },
         "type": "linear"
        }
       }
      },
      "image/png": "[encoded data removed]",
      "text/html": [
       "<div>                            <div id=\"c3ed524e-d4d1-4b16-8e79-3779ab930e30\" class=\"plotly-graph-div\" style=\"height:525px; width:100%;\"></div>            <script type=\"text/javascript\">                require([\"plotly\"], function(Plotly) {                    window.PLOTLYENV=window.PLOTLYENV || {};                                    if (document.getElementById(\"c3ed524e-d4d1-4b16-8e79-3779ab930e30\")) {                    Plotly.newPlot(                        \"c3ed524e-d4d1-4b16-8e79-3779ab930e30\",                        [{\"alignmentgroup\":\"True\",\"bingroup\":\"x\",\"histfunc\":\"sum\",\"hovertemplate\":\"SECTOR=Private for-profit, 2-year<br>Year=%{x}<br>sum of Tuition=%{y}<extra></extra>\",\"legendgroup\":\"Private for-profit, 2-year\",\"marker\":{\"color\":\"#636efa\",\"pattern\":{\"shape\":\"\"}},\"name\":\"Private for-profit, 2-year\",\"offsetgroup\":\"Private for-profit, 2-year\",\"orientation\":\"v\",\"showlegend\":true,\"type\":\"histogram\",\"x\":[\"2017-18\",\"2018-19\",\"2019-20\",\"2020-21\"],\"xaxis\":\"x\",\"y\":[14735.92,14923.96,15211.88,15097.48],\"yaxis\":\"y\"},{\"alignmentgroup\":\"True\",\"bingroup\":\"x\",\"histfunc\":\"sum\",\"hovertemplate\":\"SECTOR=Private for-profit, 4-year or above<br>Year=%{x}<br>sum of Tuition=%{y}<extra></extra>\",\"legendgroup\":\"Private for-profit, 4-year or above\",\"marker\":{\"color\":\"#EF553B\",\"pattern\":{\"shape\":\"\"}},\"name\":\"Private for-profit, 4-year or above\",\"offsetgroup\":\"Private for-profit, 4-year or above\",\"orientation\":\"v\",\"showlegend\":true,\"type\":\"histogram\",\"x\":[\"2017-18\",\"2018-19\",\"2019-20\",\"2020-21\"],\"xaxis\":\"x\",\"y\":[18412.85714285714,18802.97619047619,19172.904761904763,19536.130952380954],\"yaxis\":\"y\"},{\"alignmentgroup\":\"True\",\"bingroup\":\"x\",\"histfunc\":\"sum\",\"hovertemplate\":\"SECTOR=Private for-profit, less-than 2-year<br>Year=%{x}<br>sum of Tuition=%{y}<extra></extra>\",\"legendgroup\":\"Private for-profit, less-than 2-year\",\"marker\":{\"color\":\"#00cc96\",\"pattern\":{\"shape\":\"\"}},\"name\":\"Private for-profit, less-than 2-year\",\"offsetgroup\":\"Private for-profit, less-than 2-year\",\"orientation\":\"v\",\"showlegend\":true,\"type\":\"histogram\",\"x\":[\"2017-18\",\"2018-19\",\"2019-20\",\"2020-21\"],\"xaxis\":\"x\",\"y\":[21370.666666666668,21611.666666666668,21744.333333333332,20366.666666666668],\"yaxis\":\"y\"},{\"alignmentgroup\":\"True\",\"bingroup\":\"x\",\"histfunc\":\"sum\",\"hovertemplate\":\"SECTOR=Private not-for-profit, 2-year<br>Year=%{x}<br>sum of Tuition=%{y}<extra></extra>\",\"legendgroup\":\"Private not-for-profit, 2-year\",\"marker\":{\"color\":\"#ab63fa\",\"pattern\":{\"shape\":\"\"}},\"name\":\"Private not-for-profit, 2-year\",\"offsetgroup\":\"Private not-for-profit, 2-year\",\"orientation\":\"v\",\"showlegend\":true,\"type\":\"histogram\",\"x\":[\"2017-18\",\"2018-19\",\"2019-20\",\"2020-21\"],\"xaxis\":\"x\",\"y\":[14408.882352941177,15190.35294117647,15430.764705882353,15664.450980392157],\"yaxis\":\"y\"},{\"alignmentgroup\":\"True\",\"bingroup\":\"x\",\"histfunc\":\"sum\",\"hovertemplate\":\"SECTOR=Private not-for-profit, 4-year or above<br>Year=%{x}<br>sum of Tuition=%{y}<extra></extra>\",\"legendgroup\":\"Private not-for-profit, 4-year or above\",\"marker\":{\"color\":\"#FFA15A\",\"pattern\":{\"shape\":\"\"}},\"name\":\"Private not-for-profit, 4-year or above\",\"offsetgroup\":\"Private not-for-profit, 4-year or above\",\"orientation\":\"v\",\"showlegend\":true,\"type\":\"histogram\",\"x\":[\"2017-18\",\"2018-19\",\"2019-20\",\"2020-21\"],\"xaxis\":\"x\",\"y\":[28704.50356506239,29505.585561497326,30339.460784313724,31011.762923351158],\"yaxis\":\"y\"},{\"alignmentgroup\":\"True\",\"bingroup\":\"x\",\"histfunc\":\"sum\",\"hovertemplate\":\"SECTOR=Private not-for-profit, less-than 2-year<br>Year=%{x}<br>sum of Tuition=%{y}<extra></extra>\",\"legendgroup\":\"Private not-for-profit, less-than 2-year\",\"marker\":{\"color\":\"#19d3f3\",\"pattern\":{\"shape\":\"\"}},\"name\":\"Private not-for-profit, less-than 2-year\",\"offsetgroup\":\"Private not-for-profit, less-than 2-year\",\"orientation\":\"v\",\"showlegend\":true,\"type\":\"histogram\",\"x\":[\"2017-18\",\"2018-19\",\"2019-20\",\"2020-21\"],\"xaxis\":\"x\",\"y\":[10986.666666666666,11086.666666666666,12210.0,12358.333333333334],\"yaxis\":\"y\"},{\"alignmentgroup\":\"True\",\"bingroup\":\"x\",\"histfunc\":\"sum\",\"hovertemplate\":\"SECTOR=Public, 2-year<br>Year=%{x}<br>sum of Tuition=%{y}<extra></extra>\",\"legendgroup\":\"Public, 2-year\",\"marker\":{\"color\":\"#FF6692\",\"pattern\":{\"shape\":\"\"}},\"name\":\"Public, 2-year\",\"offsetgroup\":\"Public, 2-year\",\"orientation\":\"v\",\"showlegend\":true,\"type\":\"histogram\",\"x\":[\"2017-18\",\"2018-19\",\"2019-20\",\"2020-21\"],\"xaxis\":\"x\",\"y\":[10241.6875,10502.0625,10566.4375,10298.875],\"yaxis\":\"y\"},{\"alignmentgroup\":\"True\",\"bingroup\":\"x\",\"histfunc\":\"sum\",\"hovertemplate\":\"SECTOR=Public, 4-year or above<br>Year=%{x}<br>sum of Tuition=%{y}<extra></extra>\",\"legendgroup\":\"Public, 4-year or above\",\"marker\":{\"color\":\"#B6E880\",\"pattern\":{\"shape\":\"\"}},\"name\":\"Public, 4-year or above\",\"offsetgroup\":\"Public, 4-year or above\",\"orientation\":\"v\",\"showlegend\":true,\"type\":\"histogram\",\"x\":[\"2017-18\",\"2018-19\",\"2019-20\",\"2020-21\"],\"xaxis\":\"x\",\"y\":[18317.76526717557,18693.60496183206,19045.50954198473,19164.98854961832],\"yaxis\":\"y\"},{\"alignmentgroup\":\"True\",\"bingroup\":\"x\",\"histfunc\":\"sum\",\"hovertemplate\":\"SECTOR=Public, less-than 2-year<br>Year=%{x}<br>sum of Tuition=%{y}<extra></extra>\",\"legendgroup\":\"Public, less-than 2-year\",\"marker\":{\"color\":\"#FF97FF\",\"pattern\":{\"shape\":\"\"}},\"name\":\"Public, less-than 2-year\",\"offsetgroup\":\"Public, less-than 2-year\",\"orientation\":\"v\",\"showlegend\":true,\"type\":\"histogram\",\"x\":[\"2017-18\",\"2018-19\",\"2019-20\",\"2020-21\"],\"xaxis\":\"x\",\"y\":[6374.333333333333,6782.333333333333,7188.666666666667,7284.666666666667],\"yaxis\":\"y\"}],                        {\"barmode\":\"group\",\"legend\":{\"title\":{\"text\":\"SECTOR\"},\"tracegroupgap\":0},\"margin\":{\"t\":60},\"template\":{\"data\":{\"bar\":[{\"error_x\":{\"color\":\"#2a3f5f\"},\"error_y\":{\"color\":\"#2a3f5f\"},\"marker\":{\"line\":{\"color\":\"#E5ECF6\",\"width\":0.5},\"pattern\":{\"fillmode\":\"overlay\",\"size\":10,\"solidity\":0.2}},\"type\":\"bar\"}],\"barpolar\":[{\"marker\":{\"line\":{\"color\":\"#E5ECF6\",\"width\":0.5},\"pattern\":{\"fillmode\":\"overlay\",\"size\":10,\"solidity\":0.2}},\"type\":\"barpolar\"}],\"carpet\":[{\"aaxis\":{\"endlinecolor\":\"#2a3f5f\",\"gridcolor\":\"white\",\"linecolor\":\"white\",\"minorgridcolor\":\"white\",\"startlinecolor\":\"#2a3f5f\"},\"baxis\":{\"endlinecolor\":\"#2a3f5f\",\"gridcolor\":\"white\",\"linecolor\":\"white\",\"minorgridcolor\":\"white\",\"startlinecolor\":\"#2a3f5f\"},\"type\":\"carpet\"}],\"choropleth\":[{\"colorbar\":{\"outlinewidth\":0,\"ticks\":\"\"},\"type\":\"choropleth\"}],\"contour\":[{\"colorbar\":{\"outlinewidth\":0,\"ticks\":\"\"},\"colorscale\":[[0.0,\"#0d0887\"],[0.1111111111111111,\"#46039f\"],[0.2222222222222222,\"#7201a8\"],[0.3333333333333333,\"#9c179e\"],[0.4444444444444444,\"#bd3786\"],[0.5555555555555556,\"#d8576b\"],[0.6666666666666666,\"#ed7953\"],[0.7777777777777778,\"#fb9f3a\"],[0.8888888888888888,\"#fdca26\"],[1.0,\"#f0f921\"]],\"type\":\"contour\"}],\"contourcarpet\":[{\"colorbar\":{\"outlinewidth\":0,\"ticks\":\"\"},\"type\":\"contourcarpet\"}],\"heatmap\":[{\"colorbar\":{\"outlinewidth\":0,\"ticks\":\"\"},\"colorscale\":[[0.0,\"#0d0887\"],[0.1111111111111111,\"#46039f\"],[0.2222222222222222,\"#7201a8\"],[0.3333333333333333,\"#9c179e\"],[0.4444444444444444,\"#bd3786\"],[0.5555555555555556,\"#d8576b\"],[0.6666666666666666,\"#ed7953\"],[0.7777777777777778,\"#fb9f3a\"],[0.8888888888888888,\"#fdca26\"],[1.0,\"#f0f921\"]],\"type\":\"heatmap\"}],\"heatmapgl\":[{\"colorbar\":{\"outlinewidth\":0,\"ticks\":\"\"},\"colorscale\":[[0.0,\"#0d0887\"],[0.1111111111111111,\"#46039f\"],[0.2222222222222222,\"#7201a8\"],[0.3333333333333333,\"#9c179e\"],[0.4444444444444444,\"#bd3786\"],[0.5555555555555556,\"#d8576b\"],[0.6666666666666666,\"#ed7953\"],[0.7777777777777778,\"#fb9f3a\"],[0.8888888888888888,\"#fdca26\"],[1.0,\"#f0f921\"]],\"type\":\"heatmapgl\"}],\"histogram\":[{\"marker\":{\"pattern\":{\"fillmode\":\"overlay\",\"size\":10,\"solidity\":0.2}},\"type\":\"histogram\"}],\"histogram2d\":[{\"colorbar\":{\"outlinewidth\":0,\"ticks\":\"\"},\"colorscale\":[[0.0,\"#0d0887\"],[0.1111111111111111,\"#46039f\"],[0.2222222222222222,\"#7201a8\"],[0.3333333333333333,\"#9c179e\"],[0.4444444444444444,\"#bd3786\"],[0.5555555555555556,\"#d8576b\"],[0.6666666666666666,\"#ed7953\"],[0.7777777777777778,\"#fb9f3a\"],[0.8888888888888888,\"#fdca26\"],[1.0,\"#f0f921\"]],\"type\":\"histogram2d\"}],\"histogram2dcontour\":[{\"colorbar\":{\"outlinewidth\":0,\"ticks\":\"\"},\"colorscale\":[[0.0,\"#0d0887\"],[0.1111111111111111,\"#46039f\"],[0.2222222222222222,\"#7201a8\"],[0.3333333333333333,\"#9c179e\"],[0.4444444444444444,\"#bd3786\"],[0.5555555555555556,\"#d8576b\"],[0.6666666666666666,\"#ed7953\"],[0.7777777777777778,\"#fb9f3a\"],[0.8888888888888888,\"#fdca26\"],[1.0,\"#f0f921\"]],\"type\":\"histogram2dcontour\"}],\"mesh3d\":[{\"colorbar\":{\"outlinewidth\":0,\"ticks\":\"\"},\"type\":\"mesh3d\"}],\"parcoords\":[{\"line\":{\"colorbar\":{\"outlinewidth\":0,\"ticks\":\"\"}},\"type\":\"parcoords\"}],\"pie\":[{\"automargin\":true,\"type\":\"pie\"}],\"scatter\":[{\"marker\":{\"colorbar\":{\"outlinewidth\":0,\"ticks\":\"\"}},\"type\":\"scatter\"}],\"scatter3d\":[{\"line\":{\"colorbar\":{\"outlinewidth\":0,\"ticks\":\"\"}},\"marker\":{\"colorbar\":{\"outlinewidth\":0,\"ticks\":\"\"}},\"type\":\"scatter3d\"}],\"scattercarpet\":[{\"marker\":{\"colorbar\":{\"outlinewidth\":0,\"ticks\":\"\"}},\"type\":\"scattercarpet\"}],\"scattergeo\":[{\"marker\":{\"colorbar\":{\"outlinewidth\":0,\"ticks\":\"\"}},\"type\":\"scattergeo\"}],\"scattergl\":[{\"marker\":{\"colorbar\":{\"outlinewidth\":0,\"ticks\":\"\"}},\"type\":\"scattergl\"}],\"scattermapbox\":[{\"marker\":{\"colorbar\":{\"outlinewidth\":0,\"ticks\":\"\"}},\"type\":\"scattermapbox\"}],\"scatterpolar\":[{\"marker\":{\"colorbar\":{\"outlinewidth\":0,\"ticks\":\"\"}},\"type\":\"scatterpolar\"}],\"scatterpolargl\":[{\"marker\":{\"colorbar\":{\"outlinewidth\":0,\"ticks\":\"\"}},\"type\":\"scatterpolargl\"}],\"scatterternary\":[{\"marker\":{\"colorbar\":{\"outlinewidth\":0,\"ticks\":\"\"}},\"type\":\"scatterternary\"}],\"surface\":[{\"colorbar\":{\"outlinewidth\":0,\"ticks\":\"\"},\"colorscale\":[[0.0,\"#0d0887\"],[0.1111111111111111,\"#46039f\"],[0.2222222222222222,\"#7201a8\"],[0.3333333333333333,\"#9c179e\"],[0.4444444444444444,\"#bd3786\"],[0.5555555555555556,\"#d8576b\"],[0.6666666666666666,\"#ed7953\"],[0.7777777777777778,\"#fb9f3a\"],[0.8888888888888888,\"#fdca26\"],[1.0,\"#f0f921\"]],\"type\":\"surface\"}],\"table\":[{\"cells\":{\"fill\":{\"color\":\"#EBF0F8\"},\"line\":{\"color\":\"white\"}},\"header\":{\"fill\":{\"color\":\"#C8D4E3\"},\"line\":{\"color\":\"white\"}},\"type\":\"table\"}]},\"layout\":{\"annotationdefaults\":{\"arrowcolor\":\"#2a3f5f\",\"arrowhead\":0,\"arrowwidth\":1},\"autotypenumbers\":\"strict\",\"coloraxis\":{\"colorbar\":{\"outlinewidth\":0,\"ticks\":\"\"}},\"colorscale\":{\"diverging\":[[0,\"#8e0152\"],[0.1,\"#c51b7d\"],[0.2,\"#de77ae\"],[0.3,\"#f1b6da\"],[0.4,\"#fde0ef\"],[0.5,\"#f7f7f7\"],[0.6,\"#e6f5d0\"],[0.7,\"#b8e186\"],[0.8,\"#7fbc41\"],[0.9,\"#4d9221\"],[1,\"#276419\"]],\"sequential\":[[0.0,\"#0d0887\"],[0.1111111111111111,\"#46039f\"],[0.2222222222222222,\"#7201a8\"],[0.3333333333333333,\"#9c179e\"],[0.4444444444444444,\"#bd3786\"],[0.5555555555555556,\"#d8576b\"],[0.6666666666666666,\"#ed7953\"],[0.7777777777777778,\"#fb9f3a\"],[0.8888888888888888,\"#fdca26\"],[1.0,\"#f0f921\"]],\"sequentialminus\":[[0.0,\"#0d0887\"],[0.1111111111111111,\"#46039f\"],[0.2222222222222222,\"#7201a8\"],[0.3333333333333333,\"#9c179e\"],[0.4444444444444444,\"#bd3786\"],[0.5555555555555556,\"#d8576b\"],[0.6666666666666666,\"#ed7953\"],[0.7777777777777778,\"#fb9f3a\"],[0.8888888888888888,\"#fdca26\"],[1.0,\"#f0f921\"]]},\"colorway\":[\"#636efa\",\"#EF553B\",\"#00cc96\",\"#ab63fa\",\"#FFA15A\",\"#19d3f3\",\"#FF6692\",\"#B6E880\",\"#FF97FF\",\"#FECB52\"],\"font\":{\"color\":\"#2a3f5f\"},\"geo\":{\"bgcolor\":\"white\",\"lakecolor\":\"white\",\"landcolor\":\"#E5ECF6\",\"showlakes\":true,\"showland\":true,\"subunitcolor\":\"white\"},\"hoverlabel\":{\"align\":\"left\"},\"hovermode\":\"closest\",\"mapbox\":{\"style\":\"light\"},\"paper_bgcolor\":\"white\",\"plot_bgcolor\":\"#E5ECF6\",\"polar\":{\"angularaxis\":{\"gridcolor\":\"white\",\"linecolor\":\"white\",\"ticks\":\"\"},\"bgcolor\":\"#E5ECF6\",\"radialaxis\":{\"gridcolor\":\"white\",\"linecolor\":\"white\",\"ticks\":\"\"}},\"scene\":{\"xaxis\":{\"backgroundcolor\":\"#E5ECF6\",\"gridcolor\":\"white\",\"gridwidth\":2,\"linecolor\":\"white\",\"showbackground\":true,\"ticks\":\"\",\"zerolinecolor\":\"white\"},\"yaxis\":{\"backgroundcolor\":\"#E5ECF6\",\"gridcolor\":\"white\",\"gridwidth\":2,\"linecolor\":\"white\",\"showbackground\":true,\"ticks\":\"\",\"zerolinecolor\":\"white\"},\"zaxis\":{\"backgroundcolor\":\"#E5ECF6\",\"gridcolor\":\"white\",\"gridwidth\":2,\"linecolor\":\"white\",\"showbackground\":true,\"ticks\":\"\",\"zerolinecolor\":\"white\"}},\"shapedefaults\":{\"line\":{\"color\":\"#2a3f5f\"}},\"ternary\":{\"aaxis\":{\"gridcolor\":\"white\",\"linecolor\":\"white\",\"ticks\":\"\"},\"baxis\":{\"gridcolor\":\"white\",\"linecolor\":\"white\",\"ticks\":\"\"},\"bgcolor\":\"#E5ECF6\",\"caxis\":{\"gridcolor\":\"white\",\"linecolor\":\"white\",\"ticks\":\"\"}},\"title\":{\"x\":0.05},\"xaxis\":{\"automargin\":true,\"gridcolor\":\"white\",\"linecolor\":\"white\",\"ticks\":\"\",\"title\":{\"standoff\":15},\"zerolinecolor\":\"white\",\"zerolinewidth\":2},\"yaxis\":{\"automargin\":true,\"gridcolor\":\"white\",\"linecolor\":\"white\",\"ticks\":\"\",\"title\":{\"standoff\":15},\"zerolinecolor\":\"white\",\"zerolinewidth\":2}}},\"xaxis\":{\"anchor\":\"y\",\"domain\":[0.0,1.0],\"title\":{\"text\":\"Year\"}},\"yaxis\":{\"anchor\":\"x\",\"domain\":[0.0,1.0],\"title\":{\"text\":\"sum of Tuition\"}}},                        {\"responsive\": true}                    ).then(function(){\n",
       "                            \n",
       "var gd = document.getElementById('c3ed524e-d4d1-4b16-8e79-3779ab930e30');\n",
       "var x = new MutationObserver(function (mutations, observer) {{\n",
       "        var display = window.getComputedStyle(gd).display;\n",
       "        if (!display || display === 'none') {{\n",
       "            console.log([gd, 'removed!']);\n",
       "            Plotly.purge(gd);\n",
       "            observer.disconnect();\n",
       "        }}\n",
       "}});\n",
       "\n",
       "// Listen for the removal of the full notebook cells\n",
       "var notebookContainer = gd.closest('#notebook-container');\n",
       "if (notebookContainer) {{\n",
       "    x.observe(notebookContainer, {childList: true});\n",
       "}}\n",
       "\n",
       "// Listen for the clearing of the current output cell\n",
       "var outputEl = gd.closest('.output');\n",
       "if (outputEl) {{\n",
       "    x.observe(outputEl, {childList: true});\n",
       "}}\n",
       "\n",
       "                        })                };                });            </script>        </div>"
      ]
     },
     "metadata": {},
     "output_type": "display_data"
    }
   ],
   "source": [
    "#(Plotly)Plot the data\n",
    "fig = px.histogram(dfTimeTuit2, \n",
    "        x = 'Year', \n",
    "        y = 'Tuition',\n",
    "        color = 'SECTOR',\n",
    "        barmode = 'group')\n",
    "fig.show()\n",
    "fig.write_image('dfTimeTuit2.png')"
   ]
  },
  {
   "cell_type": "code",
   "execution_count": 43,
   "id": "bb46fef4-06bb-4408-b232-c9e3f35da576",
   "metadata": {},
   "outputs": [
    {
     "data": {
      "text/html": [
       "<div>\n",
       "<style scoped>\n",
       "    .dataframe tbody tr th:only-of-type {\n",
       "        vertical-align: middle;\n",
       "    }\n",
       "\n",
       "    .dataframe tbody tr th {\n",
       "        vertical-align: top;\n",
       "    }\n",
       "\n",
       "    .dataframe thead th {\n",
       "        text-align: right;\n",
       "    }\n",
       "</style>\n",
       "<table border=\"1\" class=\"dataframe\">\n",
       "  <thead>\n",
       "    <tr style=\"text-align: right;\">\n",
       "      <th></th>\n",
       "      <th>UNITID</th>\n",
       "      <th>CIPCODE</th>\n",
       "      <th>Race</th>\n",
       "      <th>Major numbers</th>\n",
       "    </tr>\n",
       "  </thead>\n",
       "  <tbody>\n",
       "    <tr>\n",
       "      <th>0</th>\n",
       "      <td>100654</td>\n",
       "      <td>1.0999</td>\n",
       "      <td>Grand total men</td>\n",
       "      <td>0</td>\n",
       "    </tr>\n",
       "    <tr>\n",
       "      <th>1</th>\n",
       "      <td>100654</td>\n",
       "      <td>1.1001</td>\n",
       "      <td>Grand total men</td>\n",
       "      <td>2</td>\n",
       "    </tr>\n",
       "    <tr>\n",
       "      <th>2</th>\n",
       "      <td>100654</td>\n",
       "      <td>1.1001</td>\n",
       "      <td>Grand total men</td>\n",
       "      <td>0</td>\n",
       "    </tr>\n",
       "    <tr>\n",
       "      <th>3</th>\n",
       "      <td>100654</td>\n",
       "      <td>1.1001</td>\n",
       "      <td>Grand total men</td>\n",
       "      <td>2</td>\n",
       "    </tr>\n",
       "    <tr>\n",
       "      <th>4</th>\n",
       "      <td>100654</td>\n",
       "      <td>1.9999</td>\n",
       "      <td>Grand total men</td>\n",
       "      <td>4</td>\n",
       "    </tr>\n",
       "    <tr>\n",
       "      <th>...</th>\n",
       "      <td>...</td>\n",
       "      <td>...</td>\n",
       "      <td>...</td>\n",
       "      <td>...</td>\n",
       "    </tr>\n",
       "    <tr>\n",
       "      <th>4922948</th>\n",
       "      <td>495767</td>\n",
       "      <td>99.0000</td>\n",
       "      <td>Nonresident alien women</td>\n",
       "      <td>1</td>\n",
       "    </tr>\n",
       "    <tr>\n",
       "      <th>4922949</th>\n",
       "      <td>495767</td>\n",
       "      <td>99.0000</td>\n",
       "      <td>Nonresident alien women</td>\n",
       "      <td>33</td>\n",
       "    </tr>\n",
       "    <tr>\n",
       "      <th>4922950</th>\n",
       "      <td>495916</td>\n",
       "      <td>24.0101</td>\n",
       "      <td>Nonresident alien women</td>\n",
       "      <td>0</td>\n",
       "    </tr>\n",
       "    <tr>\n",
       "      <th>4922951</th>\n",
       "      <td>495916</td>\n",
       "      <td>52.0201</td>\n",
       "      <td>Nonresident alien women</td>\n",
       "      <td>0</td>\n",
       "    </tr>\n",
       "    <tr>\n",
       "      <th>4922952</th>\n",
       "      <td>495916</td>\n",
       "      <td>99.0000</td>\n",
       "      <td>Nonresident alien women</td>\n",
       "      <td>0</td>\n",
       "    </tr>\n",
       "  </tbody>\n",
       "</table>\n",
       "<p>4922953 rows × 4 columns</p>\n",
       "</div>"
      ],
      "text/plain": [
       "         UNITID  CIPCODE                     Race  Major numbers\n",
       "0        100654   1.0999          Grand total men              0\n",
       "1        100654   1.1001          Grand total men              2\n",
       "2        100654   1.1001          Grand total men              0\n",
       "3        100654   1.1001          Grand total men              2\n",
       "4        100654   1.9999          Grand total men              4\n",
       "...         ...      ...                      ...            ...\n",
       "4922948  495767  99.0000  Nonresident alien women              1\n",
       "4922949  495767  99.0000  Nonresident alien women             33\n",
       "4922950  495916  24.0101  Nonresident alien women              0\n",
       "4922951  495916  52.0201  Nonresident alien women              0\n",
       "4922952  495916  99.0000  Nonresident alien women              0\n",
       "\n",
       "[4922953 rows x 4 columns]"
      ]
     },
     "execution_count": 43,
     "metadata": {},
     "output_type": "execute_result"
    }
   ],
   "source": [
    "#Major vs. Race\n",
    "dfMajor = dfAll[['UNITID', 'CIPCODE',\n",
    "                 'CTOTALT','CTOTALM','CTOTALW', \n",
    "                 'CAIANT', 'CAIANM', 'CAIANW',  \n",
    "                 'CASIAT', 'CASIAM', 'CASIAW', \n",
    "                 'CBKAAT', 'CBKAAM', 'CBKAAW', \n",
    "                 'CHISPT', 'CHISPM', 'CHISPW',  \n",
    "                 'CNHPIT', 'CNHPIM', 'CNHPIW',  \n",
    "                 'CWHITT', 'CWHITM', 'CWHITW', \n",
    "                 'C2MORT', 'C2MORM', 'C2MORW', \n",
    "                 'CUNKNT', 'CUNKNM', 'CUNKNW', \n",
    "                 'CNRALT', 'CNRALM', 'CNRALW  ']].drop_duplicates()\n",
    "\n",
    "\n",
    "dfMajor = dfMajor.rename(columns = {'CTOTALT':'Grand total',\n",
    "                        'CTOTALM':'Grand total men',\n",
    "                        'CTOTALW':'Grand total women',\n",
    "                         #American Indian or Alaska Native\n",
    "                        'CAIANT':'American Indian or Alaska Native total',\n",
    "                        'CAIANW':'American Indian or Alaska Native men',\n",
    "                        'CAIANM':'American Indian or Alaska Native women',\n",
    "                         #Asian\n",
    "                        'CASIAT':'Asian total',\n",
    "                        'CASIAM':'Asian men',\n",
    "                        'CASIAW':'Asian women',\n",
    "                         #Black or African American\n",
    "                        'CBKAAT':'Black or African American total',\n",
    "                        'CBKAAM':'Black or African American men',\n",
    "                        'CBKAAW':'Black or African American women',\n",
    "                         #Hispanic or Latino\n",
    "                        'CHISPT':'Hispanic or Latino total',\n",
    "                        'CHISPM':'Hispanic or Latino men',\n",
    "                        'CHISPW':'Hispanic or Latino women',\n",
    "                         #Native Hawaiian or Other Pacific Islander\n",
    "                        'CNHPIT':'Native Hawaiian or Other Pacific Islander total',\n",
    "                        'CNHPIM':'Native Hawaiian or Other Pacific Islander men',\n",
    "                        'CNHPIW':'Native Hawaiian or Other Pacific Islander women',\n",
    "                         #White\n",
    "                        'CWHITT':'White total',\n",
    "                        'CWHITM':'White men',\n",
    "                        'CWHITW':'White women',\n",
    "                        #Two or more races \n",
    "                        'C2MORT':'Two or more races total',\n",
    "                        'C2MORM':'Two or more races men',\n",
    "                        'C2MORW':'Two or more races women',\n",
    "                        #Race/ethnicity unknown \n",
    "                        'CUNKNT':'Race/ethnicity unknown total',\n",
    "                        'CUNKNM':'Race/ethnicity unknown men',\n",
    "                        'CUNKNW':'Race/ethnicity unknown women',\n",
    "                        #Nonresident alien \n",
    "                        'CNRALT':'Nonresident alien total',\n",
    "                        'CNRALM':'Nonresident alien men',\n",
    "                        'CNRALW  ':'Nonresident alien women'}).drop_duplicates()\n",
    "\n",
    "dfRaceMajor = dfMajor.melt(id_vars = ['UNITID','CIPCODE'], \n",
    "                           value_vars = ['Grand total men',\n",
    "                                           'Grand total women', 'American Indian or Alaska Native total',\n",
    "                                           'American Indian or Alaska Native women',\n",
    "                                           'American Indian or Alaska Native men', 'Asian total', 'Asian men',\n",
    "                                           'Asian women', 'Black or African American total',\n",
    "                                           'Black or African American men', 'Black or African American women',\n",
    "                                           'Hispanic or Latino total', 'Hispanic or Latino men',\n",
    "                                           'Hispanic or Latino women',\n",
    "                                           'Native Hawaiian or Other Pacific Islander total',\n",
    "                                           'Native Hawaiian or Other Pacific Islander men',\n",
    "                                           'Native Hawaiian or Other Pacific Islander women', 'White total',\n",
    "                                           'White men', 'White women', 'Two or more races total',\n",
    "                                           'Two or more races men', 'Two or more races women',\n",
    "                                           'Race/ethnicity unknown total', 'Race/ethnicity unknown men',\n",
    "                                           'Race/ethnicity unknown women', 'Nonresident alien total',\n",
    "                                           'Nonresident alien men','Nonresident alien women'],\n",
    "                           var_name = 'Race', \n",
    "                           value_name = 'Major numbers')\n",
    "dfRaceMajor"
   ]
  },
  {
   "cell_type": "code",
   "execution_count": 16,
   "id": "abce0506-6cf1-4b12-acb2-c35938ad7f91",
   "metadata": {},
   "outputs": [
    {
     "data": {
      "text/html": [
       "<div>\n",
       "<style scoped>\n",
       "    .dataframe tbody tr th:only-of-type {\n",
       "        vertical-align: middle;\n",
       "    }\n",
       "\n",
       "    .dataframe tbody tr th {\n",
       "        vertical-align: top;\n",
       "    }\n",
       "\n",
       "    .dataframe thead th {\n",
       "        text-align: right;\n",
       "    }\n",
       "</style>\n",
       "<table border=\"1\" class=\"dataframe\">\n",
       "  <thead>\n",
       "    <tr style=\"text-align: right;\">\n",
       "      <th></th>\n",
       "      <th>UNITID</th>\n",
       "      <th>LATITUDE</th>\n",
       "      <th>LONGITUD</th>\n",
       "    </tr>\n",
       "  </thead>\n",
       "  <tbody>\n",
       "    <tr>\n",
       "      <th>0</th>\n",
       "      <td>100654</td>\n",
       "      <td>34.783368</td>\n",
       "      <td>-86.568502</td>\n",
       "    </tr>\n",
       "    <tr>\n",
       "      <th>1</th>\n",
       "      <td>100654</td>\n",
       "      <td>34.783368</td>\n",
       "      <td>-86.568502</td>\n",
       "    </tr>\n",
       "    <tr>\n",
       "      <th>2</th>\n",
       "      <td>100654</td>\n",
       "      <td>34.783368</td>\n",
       "      <td>-86.568502</td>\n",
       "    </tr>\n",
       "    <tr>\n",
       "      <th>3</th>\n",
       "      <td>100654</td>\n",
       "      <td>34.783368</td>\n",
       "      <td>-86.568502</td>\n",
       "    </tr>\n",
       "    <tr>\n",
       "      <th>4</th>\n",
       "      <td>100654</td>\n",
       "      <td>34.783368</td>\n",
       "      <td>-86.568502</td>\n",
       "    </tr>\n",
       "    <tr>\n",
       "      <th>...</th>\n",
       "      <td>...</td>\n",
       "      <td>...</td>\n",
       "      <td>...</td>\n",
       "    </tr>\n",
       "    <tr>\n",
       "      <th>174788</th>\n",
       "      <td>495767</td>\n",
       "      <td>40.796500</td>\n",
       "      <td>-77.862848</td>\n",
       "    </tr>\n",
       "    <tr>\n",
       "      <th>174789</th>\n",
       "      <td>495767</td>\n",
       "      <td>40.796500</td>\n",
       "      <td>-77.862848</td>\n",
       "    </tr>\n",
       "    <tr>\n",
       "      <th>174790</th>\n",
       "      <td>495916</td>\n",
       "      <td>34.152285</td>\n",
       "      <td>-118.078697</td>\n",
       "    </tr>\n",
       "    <tr>\n",
       "      <th>174791</th>\n",
       "      <td>495916</td>\n",
       "      <td>34.152285</td>\n",
       "      <td>-118.078697</td>\n",
       "    </tr>\n",
       "    <tr>\n",
       "      <th>174792</th>\n",
       "      <td>495916</td>\n",
       "      <td>34.152285</td>\n",
       "      <td>-118.078697</td>\n",
       "    </tr>\n",
       "  </tbody>\n",
       "</table>\n",
       "<p>174793 rows × 3 columns</p>\n",
       "</div>"
      ],
      "text/plain": [
       "        UNITID   LATITUDE    LONGITUD\n",
       "0       100654  34.783368  -86.568502\n",
       "1       100654  34.783368  -86.568502\n",
       "2       100654  34.783368  -86.568502\n",
       "3       100654  34.783368  -86.568502\n",
       "4       100654  34.783368  -86.568502\n",
       "...        ...        ...         ...\n",
       "174788  495767  40.796500  -77.862848\n",
       "174789  495767  40.796500  -77.862848\n",
       "174790  495916  34.152285 -118.078697\n",
       "174791  495916  34.152285 -118.078697\n",
       "174792  495916  34.152285 -118.078697\n",
       "\n",
       "[174793 rows x 3 columns]"
      ]
     },
     "execution_count": 16,
     "metadata": {},
     "output_type": "execute_result"
    }
   ],
   "source": [
    "#map\n",
    "dfmap = dfAll[['UNITID','LATITUDE','LONGITUD']]\n",
    "dfmap"
   ]
  }
 ],
 "metadata": {
  "kernelspec": {
   "display_name": "Python ECON data tools",
   "language": "python",
   "name": "econdata"
  },
  "language_info": {
   "codemirror_mode": {
    "name": "ipython",
    "version": 3
   },
   "file_extension": ".py",
   "mimetype": "text/x-python",
   "name": "python",
   "nbconvert_exporter": "python",
   "pygments_lexer": "ipython3",
   "version": "3.8.12"
  }
 },
 "nbformat": 4,
 "nbformat_minor": 5
}
