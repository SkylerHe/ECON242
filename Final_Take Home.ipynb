{
 "cells": [
  {
   "cell_type": "code",
   "execution_count": 1,
   "id": "ac8666fe-a599-4167-a420-4c9412dccf9a",
   "metadata": {},
   "outputs": [],
   "source": [
    "import docx\n",
    "import openpyxl"
   ]
  },
  {
   "cell_type": "code",
   "execution_count": 6,
   "id": "5280b27f-ddcc-4c96-b879-ac6801bf1f8f",
   "metadata": {},
   "outputs": [],
   "source": [
    "#create a new excel sheet \n",
    "workbookObj = openpyxl.Workbook()\n",
    "#Create a sheet for data\n",
    "ws = workbookObj.create_sheet(index=0, title = \"Date & Memo\")\n",
    "#Set a column name for data\n",
    "ws['A1'] = 'Date'\n",
    "ws['B1'] = 'Memo'\n",
    "#loop for extract info from docx.\n",
    "for i in range(1,32):\n",
    "    documentObj = docx.Document('../../smehkari/EconCourses/data/Memos/Memo-{}.docx'.format(i))\n",
    "    paragraphObj= documentObj.paragraphs\n",
    "    #find date and memo\n",
    "    date = paragraphObj[4].text[6:17]\n",
    "    memo = paragraphObj[9].text\n",
    "    #loop for input data into excel sheet\n",
    "    ws.cell(row = i+1, column = 1).value = date\n",
    "    ws.cell(row = i+1, column = 2).value = memo\n",
    "#save the workbook\n",
    "workbookObj.save(\"Jokes.xlsx\")          "
   ]
  }
 ],
 "metadata": {
  "kernelspec": {
   "display_name": "Python ECON data tools",
   "language": "python",
   "name": "econdata"
  },
  "language_info": {
   "codemirror_mode": {
    "name": "ipython",
    "version": 3
   },
   "file_extension": ".py",
   "mimetype": "text/x-python",
   "name": "python",
   "nbconvert_exporter": "python",
   "pygments_lexer": "ipython3",
   "version": "3.8.12"
  }
 },
 "nbformat": 4,
 "nbformat_minor": 5
}
