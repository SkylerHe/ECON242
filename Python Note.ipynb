{
 "cells": [
  {
   "cell_type": "code",
   "execution_count": 2,
   "id": "a6a0f069-3e86-4f45-8f15-c019d25ea257",
   "metadata": {},
   "outputs": [
    {
     "name": "stdin",
     "output_type": "stream",
     "text": [
      "What is your birthday? (mm/dd/yyyy) 05102003\n"
     ]
    },
    {
     "ename": "ValueError",
     "evalue": "time data '05102003' does not match format '%m/%d/%Y'",
     "output_type": "error",
     "traceback": [
      "\u001b[0;31m---------------------------------------------------------------------------\u001b[0m",
      "\u001b[0;31mValueError\u001b[0m                                Traceback (most recent call last)",
      "\u001b[0;32m/tmp/ipykernel_1014552/4053664922.py\u001b[0m in \u001b[0;36m<module>\u001b[0;34m\u001b[0m\n\u001b[1;32m      3\u001b[0m \u001b[0;32mfrom\u001b[0m \u001b[0mdatetime\u001b[0m \u001b[0;32mimport\u001b[0m \u001b[0mdatetime\u001b[0m\u001b[0;34m\u001b[0m\u001b[0;34m\u001b[0m\u001b[0m\n\u001b[1;32m      4\u001b[0m \u001b[0mbirthdayStr\u001b[0m \u001b[0;34m=\u001b[0m \u001b[0minput\u001b[0m\u001b[0;34m(\u001b[0m\u001b[0;34m\"What is your birthday? (mm/dd/yyyy)\"\u001b[0m\u001b[0;34m)\u001b[0m\u001b[0;34m\u001b[0m\u001b[0;34m\u001b[0m\u001b[0m\n\u001b[0;32m----> 5\u001b[0;31m \u001b[0mbirthday\u001b[0m \u001b[0;34m=\u001b[0m \u001b[0mdatetime\u001b[0m\u001b[0;34m.\u001b[0m\u001b[0mstrptime\u001b[0m\u001b[0;34m(\u001b[0m\u001b[0mbirthdayStr\u001b[0m\u001b[0;34m,\u001b[0m \u001b[0;34m'%m/%d/%Y'\u001b[0m\u001b[0;34m)\u001b[0m\u001b[0;34m.\u001b[0m\u001b[0mdate\u001b[0m\u001b[0;34m(\u001b[0m\u001b[0;34m)\u001b[0m\u001b[0;34m\u001b[0m\u001b[0;34m\u001b[0m\u001b[0m\n\u001b[0m\u001b[1;32m      6\u001b[0m \u001b[0mcurrentDate\u001b[0m \u001b[0;34m=\u001b[0m \u001b[0mdate\u001b[0m\u001b[0;34m.\u001b[0m\u001b[0mtoday\u001b[0m\u001b[0;34m(\u001b[0m\u001b[0;34m)\u001b[0m\u001b[0;34m\u001b[0m\u001b[0;34m\u001b[0m\u001b[0m\n\u001b[1;32m      7\u001b[0m \u001b[0mbirthdayThisYear\u001b[0m \u001b[0;34m=\u001b[0m \u001b[0mdate\u001b[0m\u001b[0;34m(\u001b[0m\u001b[0mcurrentDate\u001b[0m\u001b[0;34m.\u001b[0m\u001b[0myear\u001b[0m\u001b[0;34m,\u001b[0m \u001b[0mbirthday\u001b[0m\u001b[0;34m.\u001b[0m\u001b[0mmonth\u001b[0m\u001b[0;34m,\u001b[0m \u001b[0mbirthday\u001b[0m\u001b[0;34m.\u001b[0m\u001b[0mday\u001b[0m\u001b[0;34m)\u001b[0m\u001b[0;34m\u001b[0m\u001b[0;34m\u001b[0m\u001b[0m\n",
      "\u001b[0;32m/usr/local/sw/anaconda3/lib/python3.8/_strptime.py\u001b[0m in \u001b[0;36m_strptime_datetime\u001b[0;34m(cls, data_string, format)\u001b[0m\n\u001b[1;32m    566\u001b[0m     \"\"\"Return a class cls instance based on the input string and the\n\u001b[1;32m    567\u001b[0m     format string.\"\"\"\n\u001b[0;32m--> 568\u001b[0;31m     \u001b[0mtt\u001b[0m\u001b[0;34m,\u001b[0m \u001b[0mfraction\u001b[0m\u001b[0;34m,\u001b[0m \u001b[0mgmtoff_fraction\u001b[0m \u001b[0;34m=\u001b[0m \u001b[0m_strptime\u001b[0m\u001b[0;34m(\u001b[0m\u001b[0mdata_string\u001b[0m\u001b[0;34m,\u001b[0m \u001b[0mformat\u001b[0m\u001b[0;34m)\u001b[0m\u001b[0;34m\u001b[0m\u001b[0;34m\u001b[0m\u001b[0m\n\u001b[0m\u001b[1;32m    569\u001b[0m     \u001b[0mtzname\u001b[0m\u001b[0;34m,\u001b[0m \u001b[0mgmtoff\u001b[0m \u001b[0;34m=\u001b[0m \u001b[0mtt\u001b[0m\u001b[0;34m[\u001b[0m\u001b[0;34m-\u001b[0m\u001b[0;36m2\u001b[0m\u001b[0;34m:\u001b[0m\u001b[0;34m]\u001b[0m\u001b[0;34m\u001b[0m\u001b[0;34m\u001b[0m\u001b[0m\n\u001b[1;32m    570\u001b[0m     \u001b[0margs\u001b[0m \u001b[0;34m=\u001b[0m \u001b[0mtt\u001b[0m\u001b[0;34m[\u001b[0m\u001b[0;34m:\u001b[0m\u001b[0;36m6\u001b[0m\u001b[0;34m]\u001b[0m \u001b[0;34m+\u001b[0m \u001b[0;34m(\u001b[0m\u001b[0mfraction\u001b[0m\u001b[0;34m,\u001b[0m\u001b[0;34m)\u001b[0m\u001b[0;34m\u001b[0m\u001b[0;34m\u001b[0m\u001b[0m\n",
      "\u001b[0;32m/usr/local/sw/anaconda3/lib/python3.8/_strptime.py\u001b[0m in \u001b[0;36m_strptime\u001b[0;34m(data_string, format)\u001b[0m\n\u001b[1;32m    347\u001b[0m     \u001b[0mfound\u001b[0m \u001b[0;34m=\u001b[0m \u001b[0mformat_regex\u001b[0m\u001b[0;34m.\u001b[0m\u001b[0mmatch\u001b[0m\u001b[0;34m(\u001b[0m\u001b[0mdata_string\u001b[0m\u001b[0;34m)\u001b[0m\u001b[0;34m\u001b[0m\u001b[0;34m\u001b[0m\u001b[0m\n\u001b[1;32m    348\u001b[0m     \u001b[0;32mif\u001b[0m \u001b[0;32mnot\u001b[0m \u001b[0mfound\u001b[0m\u001b[0;34m:\u001b[0m\u001b[0;34m\u001b[0m\u001b[0;34m\u001b[0m\u001b[0m\n\u001b[0;32m--> 349\u001b[0;31m         raise ValueError(\"time data %r does not match format %r\" %\n\u001b[0m\u001b[1;32m    350\u001b[0m                          (data_string, format))\n\u001b[1;32m    351\u001b[0m     \u001b[0;32mif\u001b[0m \u001b[0mlen\u001b[0m\u001b[0;34m(\u001b[0m\u001b[0mdata_string\u001b[0m\u001b[0;34m)\u001b[0m \u001b[0;34m!=\u001b[0m \u001b[0mfound\u001b[0m\u001b[0;34m.\u001b[0m\u001b[0mend\u001b[0m\u001b[0;34m(\u001b[0m\u001b[0;34m)\u001b[0m\u001b[0;34m:\u001b[0m\u001b[0;34m\u001b[0m\u001b[0;34m\u001b[0m\u001b[0m\n",
      "\u001b[0;31mValueError\u001b[0m: time data '05102003' does not match format '%m/%d/%Y'"
     ]
    }
   ],
   "source": [
    "\n",
    "import math\n",
    "from datetime import date\n",
    "from datetime import datetime\n",
    "birthdayStr = input(\"What is your birthday? (mm/dd/yyyy)\")\n",
    "birthday = datetime.strptime(birthdayStr, '%m/%d/%Y').date()\n",
    "currentDate = date.today()\n",
    "birthdayThisYear = date(currentDate.year, birthday.month, birthday.day)\n",
    "if currentDate >= birthdayThisYear:\n",
    "    age = currentDate.year - birthday.year\n",
    "else:\n",
    "    age = currentDate.year - birthday.year - 1\n",
    "print(\"Your age is {}.\".format(age))"
   ]
  },
  {
   "cell_type": "code",
   "execution_count": 5,
   "id": "749cf2c2-aeb8-45a6-a42b-1a32785a9cf5",
   "metadata": {},
   "outputs": [
    {
     "name": "stdin",
     "output_type": "stream",
     "text": [
      "What is your birthday? (mm/dd/yyyy) 05/10/2003\n"
     ]
    },
    {
     "name": "stdout",
     "output_type": "stream",
     "text": [
      "2003-05-10\n"
     ]
    }
   ],
   "source": [
    "\n",
    "import math\n",
    "from datetime import date\n",
    "from datetime import datetime\n",
    "\n",
    "birthdayStr = input(\"What is your birthday? (mm/dd/yyyy)\")\n",
    "birthday = datetime.strptime(birthdayStr, '%m/%d/%Y').date()\n",
    "currentDate = date.today()\n",
    "birthdayThisYear = date(currentDate.year, birthday.month, birthday.day)\n",
    "\n",
    "print(birthday)"
   ]
  },
  {
   "cell_type": "code",
   "execution_count": 6,
   "id": "fcf2f9df-8487-4c6c-bce1-ea165ccc7c3e",
   "metadata": {},
   "outputs": [
    {
     "name": "stdout",
     "output_type": "stream",
     "text": [
      "Your age is 18.\n"
     ]
    }
   ],
   "source": [
    "if currentDate >= birthdayThisYear:\n",
    "    age = currentDate.year - birthday.year\n",
    "else:\n",
    "    age = currentDate.year - birthday.year - 1\n",
    "    print(\"Your age is {}.\".format(age))"
   ]
  },
  {
   "cell_type": "code",
   "execution_count": 8,
   "id": "c3db303c-b293-46e7-bd36-47c875c71aaa",
   "metadata": {},
   "outputs": [
    {
     "name": "stdin",
     "output_type": "stream",
     "text": [
      "What is your birthday? (mm/dd/yyyy) 05/10/2003\n"
     ]
    },
    {
     "name": "stdout",
     "output_type": "stream",
     "text": [
      "2022-05-10\n"
     ]
    }
   ],
   "source": [
    "\n",
    "import math\n",
    "from datetime import date\n",
    "from datetime import datetime\n",
    "\n",
    "birthdayStr = input(\"What is your birthday? (mm/dd/yyyy)\")\n",
    "birthday = datetime.strptime(birthdayStr, '%m/%d/%Y').date()\n",
    "currentDate = date.today()\n",
    "birthdayThisYear = date(currentDate.year, birthday.month, birthday.day)\n",
    "\n",
    "print(birthdayThisYear)"
   ]
  },
  {
   "cell_type": "code",
   "execution_count": 10,
   "id": "f4213b7e-804d-4df3-8e30-c7678ea38314",
   "metadata": {},
   "outputs": [
    {
     "ename": "FileNotFoundError",
     "evalue": "[Errno 2] No such file or directory: 'dataFile.py'",
     "output_type": "error",
     "traceback": [
      "\u001b[0;31m---------------------------------------------------------------------------\u001b[0m",
      "\u001b[0;31mFileNotFoundError\u001b[0m                         Traceback (most recent call last)",
      "\u001b[0;32m/tmp/ipykernel_1014552/3855342741.py\u001b[0m in \u001b[0;36m<module>\u001b[0;34m\u001b[0m\n\u001b[0;32m----> 1\u001b[0;31m \u001b[0mdataFileObject\u001b[0m \u001b[0;34m=\u001b[0m \u001b[0mopen\u001b[0m\u001b[0;34m(\u001b[0m\u001b[0;34m'dataFile.py'\u001b[0m\u001b[0;34m,\u001b[0m\u001b[0;34m'r'\u001b[0m\u001b[0;34m)\u001b[0m\u001b[0;34m\u001b[0m\u001b[0;34m\u001b[0m\u001b[0m\n\u001b[0m\u001b[1;32m      2\u001b[0m \u001b[0;32mfor\u001b[0m \u001b[0mline\u001b[0m \u001b[0;32min\u001b[0m \u001b[0mdataFileObject\u001b[0m\u001b[0;34m:\u001b[0m\u001b[0;34m\u001b[0m\u001b[0;34m\u001b[0m\u001b[0m\n\u001b[1;32m      3\u001b[0m     \u001b[0mlineStripped\u001b[0m \u001b[0;34m=\u001b[0m \u001b[0mline\u001b[0m\u001b[0;34m.\u001b[0m\u001b[0mstrip\u001b[0m\u001b[0;34m(\u001b[0m\u001b[0;34m)\u001b[0m\u001b[0;34m\u001b[0m\u001b[0;34m\u001b[0m\u001b[0m\n\u001b[1;32m      4\u001b[0m     \u001b[0mprint\u001b[0m\u001b[0;34m(\u001b[0m\u001b[0mlineStripped\u001b[0m\u001b[0;34m)\u001b[0m\u001b[0;34m\u001b[0m\u001b[0;34m\u001b[0m\u001b[0m\n\u001b[1;32m      5\u001b[0m \u001b[0mdataFileObject\u001b[0m\u001b[0;34m.\u001b[0m\u001b[0mclose\u001b[0m\u001b[0;34m(\u001b[0m\u001b[0;34m)\u001b[0m\u001b[0;34m\u001b[0m\u001b[0;34m\u001b[0m\u001b[0m\n",
      "\u001b[0;31mFileNotFoundError\u001b[0m: [Errno 2] No such file or directory: 'dataFile.py'"
     ]
    }
   ],
   "source": [
    "dataFileObject = open('dataFile.py','r')\n",
    "for line in dataFileObject:\n",
    "    lineStripped = line.strip()\n",
    "    print(lineStripped)\n",
    "dataFileObject.close()\n"
   ]
  },
  {
   "cell_type": "code",
   "execution_count": 16,
   "id": "4461abac-4d69-48f3-b395-2622490c40da",
   "metadata": {},
   "outputs": [
    {
     "ename": "AttributeError",
     "evalue": "'str' object has no attribute 'readline'",
     "output_type": "error",
     "traceback": [
      "\u001b[0;31m---------------------------------------------------------------------------\u001b[0m",
      "\u001b[0;31mAttributeError\u001b[0m                            Traceback (most recent call last)",
      "\u001b[0;32m/tmp/ipykernel_1014552/1178233453.py\u001b[0m in \u001b[0;36m<module>\u001b[0;34m\u001b[0m\n\u001b[1;32m      5\u001b[0m \u001b[0mJohn\u001b[0m\u001b[0;34m\u001b[0m\u001b[0;34m\u001b[0m\u001b[0m\n\u001b[1;32m      6\u001b[0m Scarlett'''\n\u001b[0;32m----> 7\u001b[0;31m \u001b[0mdataFileObject\u001b[0m\u001b[0;34m.\u001b[0m\u001b[0mreadline\u001b[0m\u001b[0;34m(\u001b[0m\u001b[0;34m)\u001b[0m\u001b[0;34m\u001b[0m\u001b[0;34m\u001b[0m\u001b[0m\n\u001b[0m\u001b[1;32m      8\u001b[0m \u001b[0;32mfor\u001b[0m \u001b[0mline\u001b[0m \u001b[0;32min\u001b[0m \u001b[0mdataFileObject\u001b[0m\u001b[0;34m:\u001b[0m\u001b[0;34m\u001b[0m\u001b[0;34m\u001b[0m\u001b[0m\n\u001b[1;32m      9\u001b[0m     \u001b[0mlineStripped\u001b[0m \u001b[0;34m=\u001b[0m \u001b[0mline\u001b[0m\u001b[0;34m.\u001b[0m\u001b[0mstrip\u001b[0m\u001b[0;34m(\u001b[0m\u001b[0;34m)\u001b[0m\u001b[0;34m\u001b[0m\u001b[0;34m\u001b[0m\u001b[0m\n",
      "\u001b[0;31mAttributeError\u001b[0m: 'str' object has no attribute 'readline'"
     ]
    }
   ],
   "source": [
    "dataFileObject = '''Names: \n",
    "Mike \n",
    "Yuchen \n",
    "Mary  \n",
    "John \n",
    "Scarlett'''\n",
    "dataFileObject.readline()\n",
    "for line in dataFileObject:\n",
    "    lineStripped = line.strip()\n",
    "    print(lineStripped)\n",
    "dataFileObject.close()"
   ]
  },
  {
   "cell_type": "code",
   "execution_count": 22,
   "id": "e1c20bcb-ca0b-4f4a-a438-bb57cffff5c4",
   "metadata": {},
   "outputs": [
    {
     "name": "stdout",
     "output_type": "stream",
     "text": [
      "totalCharge =  1200\n"
     ]
    }
   ],
   "source": [
    "from datetime import date\n",
    "\n",
    "dailycharge = 100\n",
    "currentDate = date(2021,12,20)\n",
    "\n",
    "if currentDate.month == 12:\n",
    "    nextMonth = 1\n",
    "    nextYear = 2022\n",
    "    \n",
    "else:\n",
    "    print(\"again!\")\n",
    "    \n",
    "nextDate = date(nextYear,nextMonth,1)\n",
    "diff = nextDate - currentDate\n",
    "numofDay = diff.days\n",
    "\n",
    "\n",
    "print(\"totalCharge = \", dailycharge * numofDay)"
   ]
  },
  {
   "cell_type": "markdown",
   "id": "f6f1178e-def5-48a9-99c3-4c891a4d29ca",
   "metadata": {},
   "source": [
    "### Feb.1\n",
    "#A program that reads a number n and print a sequence starting from n to 1\n",
    "#while loop\n",
    "counter = int(input('Enter a number'))\n",
    "\n",
    "while counter >= 1:\n",
    "    print(counter)\n",
    "    counter -= 1\n",
    "    \n",
    "           "
   ]
  },
  {
   "cell_type": "code",
   "execution_count": 9,
   "id": "d8287112-91bc-4570-b883-b7e8ed3b6be9",
   "metadata": {},
   "outputs": [
    {
     "name": "stdin",
     "output_type": "stream",
     "text": [
      "Enter a number 8\n"
     ]
    },
    {
     "name": "stdout",
     "output_type": "stream",
     "text": [
      "8\n",
      "7\n",
      "6\n",
      "5\n",
      "4\n",
      "3\n",
      "2\n",
      "1\n"
     ]
    }
   ],
   "source": [
    "#Feb.1\n",
    "#A program that reads a number n and print a sequence starting from n to 1\n",
    "#for loop\n",
    "n = int(input('Enter a number'))\n",
    "\n",
    "for x in range(n,0,-1):\n",
    "    print(x)"
   ]
  },
  {
   "cell_type": "code",
   "execution_count": 22,
   "id": "e00c2fd8-1cf5-4a15-a460-7d558e11d26f",
   "metadata": {},
   "outputs": [
    {
     "name": "stdout",
     "output_type": "stream",
     "text": [
      "A,B,C,D\n"
     ]
    }
   ],
   "source": [
    "aList = ['A','B','C','D']\n",
    "theSum = aList[0] \n",
    "for theElement in aList[1:]:\n",
    "    theSum = theSum + ','+ theElement  \n",
    "    \n",
    "print(theSum)"
   ]
  },
  {
   "cell_type": "code",
   "execution_count": 1,
   "id": "7a1931d9-5b92-4062-bd65-0b2cbd13f588",
   "metadata": {},
   "outputs": [
    {
     "name": "stdout",
     "output_type": "stream",
     "text": [
      "[1, 4, 9, 16, 25, 36, 49, 64, 81, 100]\n"
     ]
    }
   ],
   "source": [
    "aList = [1,2,3,4,5,6,7,8,9,10]\n",
    "bList = [x**2 for x in aList]\n",
    "print(bList)"
   ]
  },
  {
   "cell_type": "code",
   "execution_count": 6,
   "id": "05bc4be4-b05b-4fa0-b3e3-d51b807ce552",
   "metadata": {},
   "outputs": [
    {
     "name": "stdout",
     "output_type": "stream",
     "text": [
      "[11]\n"
     ]
    }
   ],
   "source": [
    "listA = ['1', 3.4, 1.3, '2',11]\n",
    "listB = [int(x) for x in listA]\n",
    "listC = [x for x in listB if x > 10]\n",
    "print(listC)"
   ]
  },
  {
   "cell_type": "code",
   "execution_count": 1,
   "id": "6ecf7245-b5b0-44c8-b87f-bd072d80ca23",
   "metadata": {},
   "outputs": [
    {
     "name": "stdout",
     "output_type": "stream",
     "text": [
      "ACBDEGF\n"
     ]
    }
   ],
   "source": [
    "print('A','B',sep='C', end = 'D')\n",
    "print('E','F',sep='G')"
   ]
  },
  {
   "cell_type": "code",
   "execution_count": 2,
   "id": "1c7efe29-2b0b-4dc1-aa06-057fa4151671",
   "metadata": {},
   "outputs": [
    {
     "name": "stdout",
     "output_type": "stream",
     "text": [
      "a\n",
      "A\n"
     ]
    }
   ],
   "source": [
    "print('a')\n",
    "print('A')"
   ]
  },
  {
   "cell_type": "code",
   "execution_count": 1,
   "id": "66b8a944-e6a6-4b5f-9626-8ddb88c340bf",
   "metadata": {},
   "outputs": [
    {
     "name": "stdout",
     "output_type": "stream",
     "text": [
      "23\n"
     ]
    }
   ],
   "source": [
    "\n",
    "#In class #7\n",
    "fileObject = open('file.csa.txt','r')\n",
    "listofNum = fileObject.read().split(',')\n",
    "sumofNum = sum([int(x) for x in listofNum])#list comprehension to convert str to int\n",
    "fileObject.close()\n",
    "print(sumofNum)"
   ]
  },
  {
   "cell_type": "code",
   "execution_count": 4,
   "id": "caad731f-19ce-4ade-9c8b-483d6bef8ae2",
   "metadata": {},
   "outputs": [
    {
     "name": "stdout",
     "output_type": "stream",
     "text": [
      "14.666666666666666\n"
     ]
    }
   ],
   "source": [
    "#In class #7\n",
    "fileObject = open('file.csa.txt','r')\n",
    "listofNum = fileObject.read().split(',')\n",
    "sumofNum = sum([float(x)**2-float(x) for x in listofNum])\n",
    "\n",
    "mean = sumofNum / len(listofNum)\n",
    "fileObject.close()\n",
    "print(mean)\n"
   ]
  },
  {
   "cell_type": "code",
   "execution_count": null,
   "id": "1c51ce2d-ac82-43cb-93c0-706dd62993b5",
   "metadata": {},
   "outputs": [],
   "source": [
    "#Dictionaries Q3a\n",
    "aDictionary['First Name'][0]\n"
   ]
  },
  {
   "cell_type": "code",
   "execution_count": 5,
   "id": "4bef796d-157c-46c0-8fbc-c163d468c6b5",
   "metadata": {},
   "outputs": [
    {
     "ename": "NameError",
     "evalue": "name 'fredResponse' is not defined",
     "output_type": "error",
     "traceback": [
      "\u001b[0;31m---------------------------------------------------------------------------\u001b[0m",
      "\u001b[0;31mNameError\u001b[0m                                 Traceback (most recent call last)",
      "\u001b[0;32m/tmp/ipykernel_316815/622222171.py\u001b[0m in \u001b[0;36m<module>\u001b[0;34m\u001b[0m\n\u001b[1;32m      1\u001b[0m \u001b[0;31m#In class ex8\u001b[0m\u001b[0;34m\u001b[0m\u001b[0;34m\u001b[0m\u001b[0;34m\u001b[0m\u001b[0m\n\u001b[0;32m----> 2\u001b[0;31m \u001b[0mfredResponse\u001b[0m\u001b[0;34m[\u001b[0m\u001b[0;34m\"observations\"\u001b[0m\u001b[0;34m]\u001b[0m\u001b[0;34m[\u001b[0m\u001b[0;36m0\u001b[0m\u001b[0;34m]\u001b[0m\u001b[0;34m[\u001b[0m\u001b[0;34m\"value\"\u001b[0m\u001b[0;34m]\u001b[0m\u001b[0;34m\u001b[0m\u001b[0;34m\u001b[0m\u001b[0m\n\u001b[0m",
      "\u001b[0;31mNameError\u001b[0m: name 'fredResponse' is not defined"
     ]
    }
   ],
   "source": [
    "#In class ex8\n",
    "fredResponse[\"observations\"][0][\"value\"]"
   ]
  },
  {
   "cell_type": "code",
   "execution_count": 6,
   "id": "f8f30ef6-6444-4733-85f8-a499cb0aed1a",
   "metadata": {},
   "outputs": [
    {
     "name": "stdout",
     "output_type": "stream",
     "text": [
      "4\n",
      "(6, 7, 8)\n",
      "(4, 5, 6, 7, 8)\n",
      "(4, 5, 6, 7, 8, 1, 2)\n"
     ]
    },
    {
     "ename": "TypeError",
     "evalue": "'tuple' object does not support item assignment",
     "output_type": "error",
     "traceback": [
      "\u001b[0;31m---------------------------------------------------------------------------\u001b[0m",
      "\u001b[0;31mTypeError\u001b[0m                                 Traceback (most recent call last)",
      "\u001b[0;32m/tmp/ipykernel_316815/1054005751.py\u001b[0m in \u001b[0;36m<module>\u001b[0;34m\u001b[0m\n\u001b[1;32m      5\u001b[0m \u001b[0maTuple2\u001b[0m \u001b[0;34m=\u001b[0m \u001b[0maTuple1\u001b[0m \u001b[0;34m+\u001b[0m \u001b[0;34m(\u001b[0m\u001b[0;36m1\u001b[0m\u001b[0;34m,\u001b[0m\u001b[0;36m2\u001b[0m\u001b[0;34m)\u001b[0m\u001b[0;34m\u001b[0m\u001b[0;34m\u001b[0m\u001b[0m\n\u001b[1;32m      6\u001b[0m \u001b[0mprint\u001b[0m\u001b[0;34m(\u001b[0m\u001b[0maTuple2\u001b[0m\u001b[0;34m)\u001b[0m\u001b[0;34m\u001b[0m\u001b[0;34m\u001b[0m\u001b[0m\n\u001b[0;32m----> 7\u001b[0;31m \u001b[0maTuple1\u001b[0m\u001b[0;34m[\u001b[0m\u001b[0;36m1\u001b[0m\u001b[0;34m]\u001b[0m \u001b[0;34m=\u001b[0m \u001b[0;36m7\u001b[0m\u001b[0;34m\u001b[0m\u001b[0;34m\u001b[0m\u001b[0m\n\u001b[0m\u001b[1;32m      8\u001b[0m \u001b[0mprint\u001b[0m\u001b[0;34m(\u001b[0m\u001b[0maTuple1\u001b[0m\u001b[0;34m)\u001b[0m\u001b[0;34m\u001b[0m\u001b[0;34m\u001b[0m\u001b[0m\n",
      "\u001b[0;31mTypeError\u001b[0m: 'tuple' object does not support item assignment"
     ]
    }
   ],
   "source": [
    "aTuple1 = (4, 5, 6, 7, 8)\n",
    "print(aTuple1[0])\n",
    "print(aTuple1[2:5])\n",
    "print(aTuple1)\n",
    "aTuple2 = aTuple1 + (1,2)\n",
    "print(aTuple2)\n",
    "aTuple1[1] = 7\n",
    "print(aTuple1)"
   ]
  },
  {
   "cell_type": "code",
   "execution_count": 8,
   "id": "3c58eac2-12bf-4c27-9dfe-f22ab40842ca",
   "metadata": {},
   "outputs": [
    {
     "name": "stdout",
     "output_type": "stream",
     "text": [
      "[2]\n",
      "[2, 3]\n",
      "[2, 3, 4]\n"
     ]
    }
   ],
   "source": [
    "lista =[2,3,4]\n",
    "listb = []\n",
    "for x in lista:\n",
    "    listb.append(x)\n",
    "    print(listb)"
   ]
  },
  {
   "cell_type": "code",
   "execution_count": 2,
   "id": "e5e32ee9-9499-426a-88c7-7c6a59d383ae",
   "metadata": {},
   "outputs": [
    {
     "name": "stdout",
     "output_type": "stream",
     "text": [
      "saif 1\n",
      "skyler 2\n",
      "jimmy 6\n"
     ]
    }
   ],
   "source": [
    "A ={'saif':1,'skyler':2,'jimmy':6}\n",
    "for x,y in A.items():\n",
    "    print(x,y)"
   ]
  },
  {
   "cell_type": "code",
   "execution_count": 5,
   "id": "3860c5ae-596d-4a69-a3aa-d556e54567e2",
   "metadata": {},
   "outputs": [
    {
     "ename": "NameError",
     "evalue": "name 'datetime' is not defined",
     "output_type": "error",
     "traceback": [
      "\u001b[0;31m---------------------------------------------------------------------------\u001b[0m",
      "\u001b[0;31mNameError\u001b[0m                                 Traceback (most recent call last)",
      "\u001b[0;32m/tmp/ipykernel_380346/3039341613.py\u001b[0m in \u001b[0;36m<module>\u001b[0;34m\u001b[0m\n\u001b[1;32m      3\u001b[0m \u001b[0mUKDateStr\u001b[0m \u001b[0;34m=\u001b[0m \u001b[0;34m\"21/06/2020\"\u001b[0m\u001b[0;34m\u001b[0m\u001b[0;34m\u001b[0m\u001b[0m\n\u001b[1;32m      4\u001b[0m \u001b[0;31m# Construct the US date:\u001b[0m\u001b[0;34m\u001b[0m\u001b[0;34m\u001b[0m\u001b[0;34m\u001b[0m\u001b[0m\n\u001b[0;32m----> 5\u001b[0;31m \u001b[0mUSDate\u001b[0m \u001b[0;34m=\u001b[0m \u001b[0mdatetime\u001b[0m\u001b[0;34m.\u001b[0m\u001b[0mstrptime\u001b[0m\u001b[0;34m(\u001b[0m\u001b[0mUKDateStr\u001b[0m\u001b[0;34m,\u001b[0m\u001b[0;34m'%d/%m/%Y'\u001b[0m\u001b[0;34m)\u001b[0m\u001b[0;34m.\u001b[0m\u001b[0mdate\u001b[0m\u001b[0;34m(\u001b[0m\u001b[0;34m)\u001b[0m\u001b[0;34m\u001b[0m\u001b[0;34m\u001b[0m\u001b[0m\n\u001b[0m",
      "\u001b[0;31mNameError\u001b[0m: name 'datetime' is not defined"
     ]
    }
   ],
   "source": [
    "from datetime import date\n",
    "# The UK date\n",
    "UKDateStr = \"21/06/2020\"\n",
    "# Construct the US date:\n",
    "USDate = datetime.strptime(UKDateStr,'%d/%m/%Y').date()"
   ]
  },
  {
   "cell_type": "code",
   "execution_count": 9,
   "id": "9c2684f4-6f31-400a-ad97-03d1c60b2ac1",
   "metadata": {},
   "outputs": [
    {
     "name": "stdout",
     "output_type": "stream",
     "text": [
      "Jane\n",
      "\n",
      "Mary\n",
      "\n"
     ]
    }
   ],
   "source": [
    "dataFileVariable = open('dataFile.txt', 'r')\n",
    "currentLine = dataFileVariable.readline()\n",
    "currentLine = dataFileVariable.readline()\n",
    "print(currentLine)\n",
    "currentLine = dataFileVariable.readline()\n",
    "print(currentLine)\n",
    "currentLine = dataFileVariable.readline()\n",
    "dataFileVariable.close()"
   ]
  },
  {
   "cell_type": "code",
   "execution_count": null,
   "id": "771040d1-0380-4b5c-bed1-8fd842f53c50",
   "metadata": {},
   "outputs": [],
   "source": []
  }
 ],
 "metadata": {
  "kernelspec": {
   "display_name": "Python 3 (ipykernel)",
   "language": "python",
   "name": "python3"
  },
  "language_info": {
   "codemirror_mode": {
    "name": "ipython",
    "version": 3
   },
   "file_extension": ".py",
   "mimetype": "text/x-python",
   "name": "python",
   "nbconvert_exporter": "python",
   "pygments_lexer": "ipython3",
   "version": "3.8.11"
  }
 },
 "nbformat": 4,
 "nbformat_minor": 5
}
